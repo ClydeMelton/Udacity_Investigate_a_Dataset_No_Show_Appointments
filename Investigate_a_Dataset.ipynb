{
 "cells": [
  {
   "cell_type": "markdown",
   "metadata": {},
   "source": [
    "# Project: Investigate a Dataset - No Show Appointments"
   ]
  },
  {
   "attachments": {},
   "cell_type": "markdown",
   "metadata": {},
   "source": [
    "## Introduction\n",
    "\n",
    "### Dataset Description \n",
    "\n",
    "This dataset was collected from a hundred thousand medical appointments in Brazil.\n",
    "Various observations about each appointment were recorded.\n",
    "This dataset focuses on whtehr or not the patients showed up for their scheduled appointments.\n",
    "\n",
    "'PatientID' is the individual identifier for each patient.\n",
    "'AppointmentID' is the identification number for each individual appointment scheduled.\n",
    "'Gender' is the biolgical sex of the individual.\n",
    "'ScheduledDay' is the day the patient scheduled the appointment.\n",
    "'AppointmentDay' is the day the appointment is scheduled to take place.\n",
    "'Age' is the age of the patient.\n",
    "'Neighborhood' indicates the location of the hospital.\n",
    "'Scholarship' is status of enrollment in the Brasilian welfare program.\n",
    "'Hipertension' indicates whether or not the patient has a history of hypertension.\n",
    "'Diabetes' indicates whether or not the patient has a history of diabetes.\n",
    "'Alcoholism' indicates whether or not the patient has a history of alcoholism.\n",
    "'Handcap' indicates whether or not the patient is handicapped.\n",
    "'SMS_received' indicates if the patient was sent a text message reminder.\n",
    "'No-show' indicated whether or not the patient was present for the appointment.\n",
    "\n",
    "\n",
    "### Questions for Analysis\n",
    "\n",
    "1. What characteristics are most common among patients that schedule appointments?\n",
    "  \n",
    "  \n",
    "2. What characteristics are most common among patients that do not show up for their appointments?\n",
    "\n"
   ]
  },
  {
   "attachments": {},
   "cell_type": "markdown",
   "metadata": {},
   "source": [
    "### Importing Libraries"
   ]
  },
  {
   "cell_type": "code",
   "execution_count": 1,
   "metadata": {},
   "outputs": [],
   "source": [
    "# Importing the necessary libraries\n",
    "\n",
    "import pandas as pd\n",
    "import numpy as np\n",
    "import re\n",
    "import matplotlib.pyplot as plt"
   ]
  },
  {
   "attachments": {},
   "cell_type": "markdown",
   "metadata": {},
   "source": [
    "### Data Gathering"
   ]
  },
  {
   "cell_type": "code",
   "execution_count": 2,
   "metadata": {},
   "outputs": [],
   "source": [
    "# Loading the dataset\n",
    "\n",
    "appt_df = pd.read_csv('Database_No_show_appointments/noshowappointments-kagglev2-may-2016.csv')"
   ]
  },
  {
   "attachments": {},
   "cell_type": "markdown",
   "metadata": {},
   "source": [
    "### Data Assessment"
   ]
  },
  {
   "cell_type": "code",
   "execution_count": 3,
   "metadata": {},
   "outputs": [
    {
     "data": {
      "text/html": [
       "<div>\n",
       "<style scoped>\n",
       "    .dataframe tbody tr th:only-of-type {\n",
       "        vertical-align: middle;\n",
       "    }\n",
       "\n",
       "    .dataframe tbody tr th {\n",
       "        vertical-align: top;\n",
       "    }\n",
       "\n",
       "    .dataframe thead th {\n",
       "        text-align: right;\n",
       "    }\n",
       "</style>\n",
       "<table border=\"1\" class=\"dataframe\">\n",
       "  <thead>\n",
       "    <tr style=\"text-align: right;\">\n",
       "      <th></th>\n",
       "      <th>PatientId</th>\n",
       "      <th>AppointmentID</th>\n",
       "      <th>Gender</th>\n",
       "      <th>ScheduledDay</th>\n",
       "      <th>AppointmentDay</th>\n",
       "      <th>Age</th>\n",
       "      <th>Neighbourhood</th>\n",
       "      <th>Scholarship</th>\n",
       "      <th>Hipertension</th>\n",
       "      <th>Diabetes</th>\n",
       "      <th>Alcoholism</th>\n",
       "      <th>Handcap</th>\n",
       "      <th>SMS_received</th>\n",
       "      <th>No-show</th>\n",
       "    </tr>\n",
       "  </thead>\n",
       "  <tbody>\n",
       "    <tr>\n",
       "      <th>0</th>\n",
       "      <td>2.987250e+13</td>\n",
       "      <td>5642903</td>\n",
       "      <td>F</td>\n",
       "      <td>2016-04-29T18:38:08Z</td>\n",
       "      <td>2016-04-29T00:00:00Z</td>\n",
       "      <td>62</td>\n",
       "      <td>JARDIM DA PENHA</td>\n",
       "      <td>0</td>\n",
       "      <td>1</td>\n",
       "      <td>0</td>\n",
       "      <td>0</td>\n",
       "      <td>0</td>\n",
       "      <td>0</td>\n",
       "      <td>No</td>\n",
       "    </tr>\n",
       "    <tr>\n",
       "      <th>1</th>\n",
       "      <td>5.589978e+14</td>\n",
       "      <td>5642503</td>\n",
       "      <td>M</td>\n",
       "      <td>2016-04-29T16:08:27Z</td>\n",
       "      <td>2016-04-29T00:00:00Z</td>\n",
       "      <td>56</td>\n",
       "      <td>JARDIM DA PENHA</td>\n",
       "      <td>0</td>\n",
       "      <td>0</td>\n",
       "      <td>0</td>\n",
       "      <td>0</td>\n",
       "      <td>0</td>\n",
       "      <td>0</td>\n",
       "      <td>No</td>\n",
       "    </tr>\n",
       "    <tr>\n",
       "      <th>2</th>\n",
       "      <td>4.262962e+12</td>\n",
       "      <td>5642549</td>\n",
       "      <td>F</td>\n",
       "      <td>2016-04-29T16:19:04Z</td>\n",
       "      <td>2016-04-29T00:00:00Z</td>\n",
       "      <td>62</td>\n",
       "      <td>MATA DA PRAIA</td>\n",
       "      <td>0</td>\n",
       "      <td>0</td>\n",
       "      <td>0</td>\n",
       "      <td>0</td>\n",
       "      <td>0</td>\n",
       "      <td>0</td>\n",
       "      <td>No</td>\n",
       "    </tr>\n",
       "    <tr>\n",
       "      <th>3</th>\n",
       "      <td>8.679512e+11</td>\n",
       "      <td>5642828</td>\n",
       "      <td>F</td>\n",
       "      <td>2016-04-29T17:29:31Z</td>\n",
       "      <td>2016-04-29T00:00:00Z</td>\n",
       "      <td>8</td>\n",
       "      <td>PONTAL DE CAMBURI</td>\n",
       "      <td>0</td>\n",
       "      <td>0</td>\n",
       "      <td>0</td>\n",
       "      <td>0</td>\n",
       "      <td>0</td>\n",
       "      <td>0</td>\n",
       "      <td>No</td>\n",
       "    </tr>\n",
       "    <tr>\n",
       "      <th>4</th>\n",
       "      <td>8.841186e+12</td>\n",
       "      <td>5642494</td>\n",
       "      <td>F</td>\n",
       "      <td>2016-04-29T16:07:23Z</td>\n",
       "      <td>2016-04-29T00:00:00Z</td>\n",
       "      <td>56</td>\n",
       "      <td>JARDIM DA PENHA</td>\n",
       "      <td>0</td>\n",
       "      <td>1</td>\n",
       "      <td>1</td>\n",
       "      <td>0</td>\n",
       "      <td>0</td>\n",
       "      <td>0</td>\n",
       "      <td>No</td>\n",
       "    </tr>\n",
       "  </tbody>\n",
       "</table>\n",
       "</div>"
      ],
      "text/plain": [
       "      PatientId  AppointmentID Gender          ScheduledDay  \\\n",
       "0  2.987250e+13        5642903      F  2016-04-29T18:38:08Z   \n",
       "1  5.589978e+14        5642503      M  2016-04-29T16:08:27Z   \n",
       "2  4.262962e+12        5642549      F  2016-04-29T16:19:04Z   \n",
       "3  8.679512e+11        5642828      F  2016-04-29T17:29:31Z   \n",
       "4  8.841186e+12        5642494      F  2016-04-29T16:07:23Z   \n",
       "\n",
       "         AppointmentDay  Age      Neighbourhood  Scholarship  Hipertension  \\\n",
       "0  2016-04-29T00:00:00Z   62    JARDIM DA PENHA            0             1   \n",
       "1  2016-04-29T00:00:00Z   56    JARDIM DA PENHA            0             0   \n",
       "2  2016-04-29T00:00:00Z   62      MATA DA PRAIA            0             0   \n",
       "3  2016-04-29T00:00:00Z    8  PONTAL DE CAMBURI            0             0   \n",
       "4  2016-04-29T00:00:00Z   56    JARDIM DA PENHA            0             1   \n",
       "\n",
       "   Diabetes  Alcoholism  Handcap  SMS_received No-show  \n",
       "0         0           0        0             0      No  \n",
       "1         0           0        0             0      No  \n",
       "2         0           0        0             0      No  \n",
       "3         0           0        0             0      No  \n",
       "4         1           0        0             0      No  "
      ]
     },
     "execution_count": 3,
     "metadata": {},
     "output_type": "execute_result"
    }
   ],
   "source": [
    "appt_df.head()"
   ]
  },
  {
   "cell_type": "code",
   "execution_count": 4,
   "metadata": {},
   "outputs": [
    {
     "data": {
      "text/html": [
       "<div>\n",
       "<style scoped>\n",
       "    .dataframe tbody tr th:only-of-type {\n",
       "        vertical-align: middle;\n",
       "    }\n",
       "\n",
       "    .dataframe tbody tr th {\n",
       "        vertical-align: top;\n",
       "    }\n",
       "\n",
       "    .dataframe thead th {\n",
       "        text-align: right;\n",
       "    }\n",
       "</style>\n",
       "<table border=\"1\" class=\"dataframe\">\n",
       "  <thead>\n",
       "    <tr style=\"text-align: right;\">\n",
       "      <th></th>\n",
       "      <th>PatientId</th>\n",
       "      <th>AppointmentID</th>\n",
       "      <th>Gender</th>\n",
       "      <th>ScheduledDay</th>\n",
       "      <th>AppointmentDay</th>\n",
       "      <th>Age</th>\n",
       "      <th>Neighbourhood</th>\n",
       "      <th>Scholarship</th>\n",
       "      <th>Hipertension</th>\n",
       "      <th>Diabetes</th>\n",
       "      <th>Alcoholism</th>\n",
       "      <th>Handcap</th>\n",
       "      <th>SMS_received</th>\n",
       "      <th>No-show</th>\n",
       "    </tr>\n",
       "  </thead>\n",
       "  <tbody>\n",
       "    <tr>\n",
       "      <th>110522</th>\n",
       "      <td>2.572134e+12</td>\n",
       "      <td>5651768</td>\n",
       "      <td>F</td>\n",
       "      <td>2016-05-03T09:15:35Z</td>\n",
       "      <td>2016-06-07T00:00:00Z</td>\n",
       "      <td>56</td>\n",
       "      <td>MARIA ORTIZ</td>\n",
       "      <td>0</td>\n",
       "      <td>0</td>\n",
       "      <td>0</td>\n",
       "      <td>0</td>\n",
       "      <td>0</td>\n",
       "      <td>1</td>\n",
       "      <td>No</td>\n",
       "    </tr>\n",
       "    <tr>\n",
       "      <th>110523</th>\n",
       "      <td>3.596266e+12</td>\n",
       "      <td>5650093</td>\n",
       "      <td>F</td>\n",
       "      <td>2016-05-03T07:27:33Z</td>\n",
       "      <td>2016-06-07T00:00:00Z</td>\n",
       "      <td>51</td>\n",
       "      <td>MARIA ORTIZ</td>\n",
       "      <td>0</td>\n",
       "      <td>0</td>\n",
       "      <td>0</td>\n",
       "      <td>0</td>\n",
       "      <td>0</td>\n",
       "      <td>1</td>\n",
       "      <td>No</td>\n",
       "    </tr>\n",
       "    <tr>\n",
       "      <th>110524</th>\n",
       "      <td>1.557663e+13</td>\n",
       "      <td>5630692</td>\n",
       "      <td>F</td>\n",
       "      <td>2016-04-27T16:03:52Z</td>\n",
       "      <td>2016-06-07T00:00:00Z</td>\n",
       "      <td>21</td>\n",
       "      <td>MARIA ORTIZ</td>\n",
       "      <td>0</td>\n",
       "      <td>0</td>\n",
       "      <td>0</td>\n",
       "      <td>0</td>\n",
       "      <td>0</td>\n",
       "      <td>1</td>\n",
       "      <td>No</td>\n",
       "    </tr>\n",
       "    <tr>\n",
       "      <th>110525</th>\n",
       "      <td>9.213493e+13</td>\n",
       "      <td>5630323</td>\n",
       "      <td>F</td>\n",
       "      <td>2016-04-27T15:09:23Z</td>\n",
       "      <td>2016-06-07T00:00:00Z</td>\n",
       "      <td>38</td>\n",
       "      <td>MARIA ORTIZ</td>\n",
       "      <td>0</td>\n",
       "      <td>0</td>\n",
       "      <td>0</td>\n",
       "      <td>0</td>\n",
       "      <td>0</td>\n",
       "      <td>1</td>\n",
       "      <td>No</td>\n",
       "    </tr>\n",
       "    <tr>\n",
       "      <th>110526</th>\n",
       "      <td>3.775115e+14</td>\n",
       "      <td>5629448</td>\n",
       "      <td>F</td>\n",
       "      <td>2016-04-27T13:30:56Z</td>\n",
       "      <td>2016-06-07T00:00:00Z</td>\n",
       "      <td>54</td>\n",
       "      <td>MARIA ORTIZ</td>\n",
       "      <td>0</td>\n",
       "      <td>0</td>\n",
       "      <td>0</td>\n",
       "      <td>0</td>\n",
       "      <td>0</td>\n",
       "      <td>1</td>\n",
       "      <td>No</td>\n",
       "    </tr>\n",
       "  </tbody>\n",
       "</table>\n",
       "</div>"
      ],
      "text/plain": [
       "           PatientId  AppointmentID Gender          ScheduledDay  \\\n",
       "110522  2.572134e+12        5651768      F  2016-05-03T09:15:35Z   \n",
       "110523  3.596266e+12        5650093      F  2016-05-03T07:27:33Z   \n",
       "110524  1.557663e+13        5630692      F  2016-04-27T16:03:52Z   \n",
       "110525  9.213493e+13        5630323      F  2016-04-27T15:09:23Z   \n",
       "110526  3.775115e+14        5629448      F  2016-04-27T13:30:56Z   \n",
       "\n",
       "              AppointmentDay  Age Neighbourhood  Scholarship  Hipertension  \\\n",
       "110522  2016-06-07T00:00:00Z   56   MARIA ORTIZ            0             0   \n",
       "110523  2016-06-07T00:00:00Z   51   MARIA ORTIZ            0             0   \n",
       "110524  2016-06-07T00:00:00Z   21   MARIA ORTIZ            0             0   \n",
       "110525  2016-06-07T00:00:00Z   38   MARIA ORTIZ            0             0   \n",
       "110526  2016-06-07T00:00:00Z   54   MARIA ORTIZ            0             0   \n",
       "\n",
       "        Diabetes  Alcoholism  Handcap  SMS_received No-show  \n",
       "110522         0           0        0             1      No  \n",
       "110523         0           0        0             1      No  \n",
       "110524         0           0        0             1      No  \n",
       "110525         0           0        0             1      No  \n",
       "110526         0           0        0             1      No  "
      ]
     },
     "execution_count": 4,
     "metadata": {},
     "output_type": "execute_result"
    }
   ],
   "source": [
    "appt_df.tail()"
   ]
  },
  {
   "cell_type": "code",
   "execution_count": 5,
   "metadata": {},
   "outputs": [
    {
     "data": {
      "text/html": [
       "<div>\n",
       "<style scoped>\n",
       "    .dataframe tbody tr th:only-of-type {\n",
       "        vertical-align: middle;\n",
       "    }\n",
       "\n",
       "    .dataframe tbody tr th {\n",
       "        vertical-align: top;\n",
       "    }\n",
       "\n",
       "    .dataframe thead th {\n",
       "        text-align: right;\n",
       "    }\n",
       "</style>\n",
       "<table border=\"1\" class=\"dataframe\">\n",
       "  <thead>\n",
       "    <tr style=\"text-align: right;\">\n",
       "      <th></th>\n",
       "      <th>PatientId</th>\n",
       "      <th>AppointmentID</th>\n",
       "      <th>Gender</th>\n",
       "      <th>ScheduledDay</th>\n",
       "      <th>AppointmentDay</th>\n",
       "      <th>Age</th>\n",
       "      <th>Neighbourhood</th>\n",
       "      <th>Scholarship</th>\n",
       "      <th>Hipertension</th>\n",
       "      <th>Diabetes</th>\n",
       "      <th>Alcoholism</th>\n",
       "      <th>Handcap</th>\n",
       "      <th>SMS_received</th>\n",
       "      <th>No-show</th>\n",
       "    </tr>\n",
       "  </thead>\n",
       "  <tbody>\n",
       "    <tr>\n",
       "      <th>9956</th>\n",
       "      <td>7.458635e+13</td>\n",
       "      <td>5631845</td>\n",
       "      <td>F</td>\n",
       "      <td>2016-04-28T07:29:03Z</td>\n",
       "      <td>2016-05-04T00:00:00Z</td>\n",
       "      <td>39</td>\n",
       "      <td>ROMÃO</td>\n",
       "      <td>0</td>\n",
       "      <td>0</td>\n",
       "      <td>0</td>\n",
       "      <td>0</td>\n",
       "      <td>0</td>\n",
       "      <td>0</td>\n",
       "      <td>No</td>\n",
       "    </tr>\n",
       "    <tr>\n",
       "      <th>41157</th>\n",
       "      <td>5.417362e+14</td>\n",
       "      <td>5642630</td>\n",
       "      <td>F</td>\n",
       "      <td>2016-04-29T16:32:34Z</td>\n",
       "      <td>2016-05-24T00:00:00Z</td>\n",
       "      <td>38</td>\n",
       "      <td>MARIA ORTIZ</td>\n",
       "      <td>0</td>\n",
       "      <td>0</td>\n",
       "      <td>0</td>\n",
       "      <td>0</td>\n",
       "      <td>0</td>\n",
       "      <td>1</td>\n",
       "      <td>Yes</td>\n",
       "    </tr>\n",
       "    <tr>\n",
       "      <th>79879</th>\n",
       "      <td>1.838176e+12</td>\n",
       "      <td>5652331</td>\n",
       "      <td>M</td>\n",
       "      <td>2016-05-03T09:57:31Z</td>\n",
       "      <td>2016-05-03T00:00:00Z</td>\n",
       "      <td>1</td>\n",
       "      <td>SÃO PEDRO</td>\n",
       "      <td>0</td>\n",
       "      <td>0</td>\n",
       "      <td>0</td>\n",
       "      <td>0</td>\n",
       "      <td>0</td>\n",
       "      <td>0</td>\n",
       "      <td>No</td>\n",
       "    </tr>\n",
       "    <tr>\n",
       "      <th>83107</th>\n",
       "      <td>6.912466e+11</td>\n",
       "      <td>5633473</td>\n",
       "      <td>F</td>\n",
       "      <td>2016-04-28T09:29:47Z</td>\n",
       "      <td>2016-05-18T00:00:00Z</td>\n",
       "      <td>30</td>\n",
       "      <td>ITARARÉ</td>\n",
       "      <td>1</td>\n",
       "      <td>0</td>\n",
       "      <td>0</td>\n",
       "      <td>0</td>\n",
       "      <td>0</td>\n",
       "      <td>0</td>\n",
       "      <td>No</td>\n",
       "    </tr>\n",
       "    <tr>\n",
       "      <th>55650</th>\n",
       "      <td>5.265370e+12</td>\n",
       "      <td>5663293</td>\n",
       "      <td>M</td>\n",
       "      <td>2016-05-05T09:47:57Z</td>\n",
       "      <td>2016-05-05T00:00:00Z</td>\n",
       "      <td>16</td>\n",
       "      <td>MARUÍPE</td>\n",
       "      <td>0</td>\n",
       "      <td>0</td>\n",
       "      <td>0</td>\n",
       "      <td>0</td>\n",
       "      <td>0</td>\n",
       "      <td>0</td>\n",
       "      <td>No</td>\n",
       "    </tr>\n",
       "    <tr>\n",
       "      <th>95302</th>\n",
       "      <td>8.211527e+12</td>\n",
       "      <td>5757894</td>\n",
       "      <td>M</td>\n",
       "      <td>2016-06-01T09:58:10Z</td>\n",
       "      <td>2016-06-01T00:00:00Z</td>\n",
       "      <td>9</td>\n",
       "      <td>CARATOÍRA</td>\n",
       "      <td>1</td>\n",
       "      <td>0</td>\n",
       "      <td>0</td>\n",
       "      <td>0</td>\n",
       "      <td>0</td>\n",
       "      <td>0</td>\n",
       "      <td>Yes</td>\n",
       "    </tr>\n",
       "    <tr>\n",
       "      <th>50588</th>\n",
       "      <td>4.422876e+12</td>\n",
       "      <td>5645556</td>\n",
       "      <td>F</td>\n",
       "      <td>2016-05-02T10:05:05Z</td>\n",
       "      <td>2016-05-18T00:00:00Z</td>\n",
       "      <td>42</td>\n",
       "      <td>SANTOS DUMONT</td>\n",
       "      <td>0</td>\n",
       "      <td>0</td>\n",
       "      <td>0</td>\n",
       "      <td>0</td>\n",
       "      <td>0</td>\n",
       "      <td>0</td>\n",
       "      <td>No</td>\n",
       "    </tr>\n",
       "    <tr>\n",
       "      <th>28593</th>\n",
       "      <td>7.925227e+13</td>\n",
       "      <td>5626379</td>\n",
       "      <td>M</td>\n",
       "      <td>2016-04-27T08:10:00Z</td>\n",
       "      <td>2016-05-04T00:00:00Z</td>\n",
       "      <td>6</td>\n",
       "      <td>FORTE SÃO JOÃO</td>\n",
       "      <td>0</td>\n",
       "      <td>0</td>\n",
       "      <td>0</td>\n",
       "      <td>0</td>\n",
       "      <td>0</td>\n",
       "      <td>1</td>\n",
       "      <td>No</td>\n",
       "    </tr>\n",
       "    <tr>\n",
       "      <th>44201</th>\n",
       "      <td>4.614539e+13</td>\n",
       "      <td>5685223</td>\n",
       "      <td>M</td>\n",
       "      <td>2016-05-11T09:56:00Z</td>\n",
       "      <td>2016-05-11T00:00:00Z</td>\n",
       "      <td>1</td>\n",
       "      <td>CONSOLAÇÃO</td>\n",
       "      <td>0</td>\n",
       "      <td>0</td>\n",
       "      <td>0</td>\n",
       "      <td>0</td>\n",
       "      <td>0</td>\n",
       "      <td>0</td>\n",
       "      <td>No</td>\n",
       "    </tr>\n",
       "    <tr>\n",
       "      <th>96684</th>\n",
       "      <td>4.366798e+13</td>\n",
       "      <td>5657444</td>\n",
       "      <td>F</td>\n",
       "      <td>2016-05-04T09:22:07Z</td>\n",
       "      <td>2016-06-07T00:00:00Z</td>\n",
       "      <td>4</td>\n",
       "      <td>CENTRO</td>\n",
       "      <td>0</td>\n",
       "      <td>0</td>\n",
       "      <td>0</td>\n",
       "      <td>0</td>\n",
       "      <td>0</td>\n",
       "      <td>1</td>\n",
       "      <td>No</td>\n",
       "    </tr>\n",
       "  </tbody>\n",
       "</table>\n",
       "</div>"
      ],
      "text/plain": [
       "          PatientId  AppointmentID Gender          ScheduledDay  \\\n",
       "9956   7.458635e+13        5631845      F  2016-04-28T07:29:03Z   \n",
       "41157  5.417362e+14        5642630      F  2016-04-29T16:32:34Z   \n",
       "79879  1.838176e+12        5652331      M  2016-05-03T09:57:31Z   \n",
       "83107  6.912466e+11        5633473      F  2016-04-28T09:29:47Z   \n",
       "55650  5.265370e+12        5663293      M  2016-05-05T09:47:57Z   \n",
       "95302  8.211527e+12        5757894      M  2016-06-01T09:58:10Z   \n",
       "50588  4.422876e+12        5645556      F  2016-05-02T10:05:05Z   \n",
       "28593  7.925227e+13        5626379      M  2016-04-27T08:10:00Z   \n",
       "44201  4.614539e+13        5685223      M  2016-05-11T09:56:00Z   \n",
       "96684  4.366798e+13        5657444      F  2016-05-04T09:22:07Z   \n",
       "\n",
       "             AppointmentDay  Age   Neighbourhood  Scholarship  Hipertension  \\\n",
       "9956   2016-05-04T00:00:00Z   39           ROMÃO            0             0   \n",
       "41157  2016-05-24T00:00:00Z   38     MARIA ORTIZ            0             0   \n",
       "79879  2016-05-03T00:00:00Z    1       SÃO PEDRO            0             0   \n",
       "83107  2016-05-18T00:00:00Z   30         ITARARÉ            1             0   \n",
       "55650  2016-05-05T00:00:00Z   16         MARUÍPE            0             0   \n",
       "95302  2016-06-01T00:00:00Z    9       CARATOÍRA            1             0   \n",
       "50588  2016-05-18T00:00:00Z   42   SANTOS DUMONT            0             0   \n",
       "28593  2016-05-04T00:00:00Z    6  FORTE SÃO JOÃO            0             0   \n",
       "44201  2016-05-11T00:00:00Z    1      CONSOLAÇÃO            0             0   \n",
       "96684  2016-06-07T00:00:00Z    4          CENTRO            0             0   \n",
       "\n",
       "       Diabetes  Alcoholism  Handcap  SMS_received No-show  \n",
       "9956          0           0        0             0      No  \n",
       "41157         0           0        0             1     Yes  \n",
       "79879         0           0        0             0      No  \n",
       "83107         0           0        0             0      No  \n",
       "55650         0           0        0             0      No  \n",
       "95302         0           0        0             0     Yes  \n",
       "50588         0           0        0             0      No  \n",
       "28593         0           0        0             1      No  \n",
       "44201         0           0        0             0      No  \n",
       "96684         0           0        0             1      No  "
      ]
     },
     "execution_count": 5,
     "metadata": {},
     "output_type": "execute_result"
    }
   ],
   "source": [
    "appt_df.sample(10)"
   ]
  },
  {
   "cell_type": "code",
   "execution_count": 6,
   "metadata": {},
   "outputs": [
    {
     "name": "stdout",
     "output_type": "stream",
     "text": [
      "<class 'pandas.core.frame.DataFrame'>\n",
      "RangeIndex: 110527 entries, 0 to 110526\n",
      "Data columns (total 14 columns):\n",
      " #   Column          Non-Null Count   Dtype  \n",
      "---  ------          --------------   -----  \n",
      " 0   PatientId       110527 non-null  float64\n",
      " 1   AppointmentID   110527 non-null  int64  \n",
      " 2   Gender          110527 non-null  object \n",
      " 3   ScheduledDay    110527 non-null  object \n",
      " 4   AppointmentDay  110527 non-null  object \n",
      " 5   Age             110527 non-null  int64  \n",
      " 6   Neighbourhood   110527 non-null  object \n",
      " 7   Scholarship     110527 non-null  int64  \n",
      " 8   Hipertension    110527 non-null  int64  \n",
      " 9   Diabetes        110527 non-null  int64  \n",
      " 10  Alcoholism      110527 non-null  int64  \n",
      " 11  Handcap         110527 non-null  int64  \n",
      " 12  SMS_received    110527 non-null  int64  \n",
      " 13  No-show         110527 non-null  object \n",
      "dtypes: float64(1), int64(8), object(5)\n",
      "memory usage: 11.8+ MB\n"
     ]
    }
   ],
   "source": [
    "appt_df.info()"
   ]
  },
  {
   "cell_type": "code",
   "execution_count": 7,
   "metadata": {},
   "outputs": [
    {
     "data": {
      "text/html": [
       "<div>\n",
       "<style scoped>\n",
       "    .dataframe tbody tr th:only-of-type {\n",
       "        vertical-align: middle;\n",
       "    }\n",
       "\n",
       "    .dataframe tbody tr th {\n",
       "        vertical-align: top;\n",
       "    }\n",
       "\n",
       "    .dataframe thead th {\n",
       "        text-align: right;\n",
       "    }\n",
       "</style>\n",
       "<table border=\"1\" class=\"dataframe\">\n",
       "  <thead>\n",
       "    <tr style=\"text-align: right;\">\n",
       "      <th></th>\n",
       "      <th>PatientId</th>\n",
       "      <th>AppointmentID</th>\n",
       "      <th>Age</th>\n",
       "      <th>Scholarship</th>\n",
       "      <th>Hipertension</th>\n",
       "      <th>Diabetes</th>\n",
       "      <th>Alcoholism</th>\n",
       "      <th>Handcap</th>\n",
       "      <th>SMS_received</th>\n",
       "    </tr>\n",
       "  </thead>\n",
       "  <tbody>\n",
       "    <tr>\n",
       "      <th>count</th>\n",
       "      <td>1.105270e+05</td>\n",
       "      <td>1.105270e+05</td>\n",
       "      <td>110527.000000</td>\n",
       "      <td>110527.000000</td>\n",
       "      <td>110527.000000</td>\n",
       "      <td>110527.000000</td>\n",
       "      <td>110527.000000</td>\n",
       "      <td>110527.000000</td>\n",
       "      <td>110527.000000</td>\n",
       "    </tr>\n",
       "    <tr>\n",
       "      <th>mean</th>\n",
       "      <td>1.474963e+14</td>\n",
       "      <td>5.675305e+06</td>\n",
       "      <td>37.088874</td>\n",
       "      <td>0.098266</td>\n",
       "      <td>0.197246</td>\n",
       "      <td>0.071865</td>\n",
       "      <td>0.030400</td>\n",
       "      <td>0.022248</td>\n",
       "      <td>0.321026</td>\n",
       "    </tr>\n",
       "    <tr>\n",
       "      <th>std</th>\n",
       "      <td>2.560949e+14</td>\n",
       "      <td>7.129575e+04</td>\n",
       "      <td>23.110205</td>\n",
       "      <td>0.297675</td>\n",
       "      <td>0.397921</td>\n",
       "      <td>0.258265</td>\n",
       "      <td>0.171686</td>\n",
       "      <td>0.161543</td>\n",
       "      <td>0.466873</td>\n",
       "    </tr>\n",
       "    <tr>\n",
       "      <th>min</th>\n",
       "      <td>3.921784e+04</td>\n",
       "      <td>5.030230e+06</td>\n",
       "      <td>-1.000000</td>\n",
       "      <td>0.000000</td>\n",
       "      <td>0.000000</td>\n",
       "      <td>0.000000</td>\n",
       "      <td>0.000000</td>\n",
       "      <td>0.000000</td>\n",
       "      <td>0.000000</td>\n",
       "    </tr>\n",
       "    <tr>\n",
       "      <th>25%</th>\n",
       "      <td>4.172614e+12</td>\n",
       "      <td>5.640286e+06</td>\n",
       "      <td>18.000000</td>\n",
       "      <td>0.000000</td>\n",
       "      <td>0.000000</td>\n",
       "      <td>0.000000</td>\n",
       "      <td>0.000000</td>\n",
       "      <td>0.000000</td>\n",
       "      <td>0.000000</td>\n",
       "    </tr>\n",
       "    <tr>\n",
       "      <th>50%</th>\n",
       "      <td>3.173184e+13</td>\n",
       "      <td>5.680573e+06</td>\n",
       "      <td>37.000000</td>\n",
       "      <td>0.000000</td>\n",
       "      <td>0.000000</td>\n",
       "      <td>0.000000</td>\n",
       "      <td>0.000000</td>\n",
       "      <td>0.000000</td>\n",
       "      <td>0.000000</td>\n",
       "    </tr>\n",
       "    <tr>\n",
       "      <th>75%</th>\n",
       "      <td>9.439172e+13</td>\n",
       "      <td>5.725524e+06</td>\n",
       "      <td>55.000000</td>\n",
       "      <td>0.000000</td>\n",
       "      <td>0.000000</td>\n",
       "      <td>0.000000</td>\n",
       "      <td>0.000000</td>\n",
       "      <td>0.000000</td>\n",
       "      <td>1.000000</td>\n",
       "    </tr>\n",
       "    <tr>\n",
       "      <th>max</th>\n",
       "      <td>9.999816e+14</td>\n",
       "      <td>5.790484e+06</td>\n",
       "      <td>115.000000</td>\n",
       "      <td>1.000000</td>\n",
       "      <td>1.000000</td>\n",
       "      <td>1.000000</td>\n",
       "      <td>1.000000</td>\n",
       "      <td>4.000000</td>\n",
       "      <td>1.000000</td>\n",
       "    </tr>\n",
       "  </tbody>\n",
       "</table>\n",
       "</div>"
      ],
      "text/plain": [
       "          PatientId  AppointmentID            Age    Scholarship  \\\n",
       "count  1.105270e+05   1.105270e+05  110527.000000  110527.000000   \n",
       "mean   1.474963e+14   5.675305e+06      37.088874       0.098266   \n",
       "std    2.560949e+14   7.129575e+04      23.110205       0.297675   \n",
       "min    3.921784e+04   5.030230e+06      -1.000000       0.000000   \n",
       "25%    4.172614e+12   5.640286e+06      18.000000       0.000000   \n",
       "50%    3.173184e+13   5.680573e+06      37.000000       0.000000   \n",
       "75%    9.439172e+13   5.725524e+06      55.000000       0.000000   \n",
       "max    9.999816e+14   5.790484e+06     115.000000       1.000000   \n",
       "\n",
       "        Hipertension       Diabetes     Alcoholism        Handcap  \\\n",
       "count  110527.000000  110527.000000  110527.000000  110527.000000   \n",
       "mean        0.197246       0.071865       0.030400       0.022248   \n",
       "std         0.397921       0.258265       0.171686       0.161543   \n",
       "min         0.000000       0.000000       0.000000       0.000000   \n",
       "25%         0.000000       0.000000       0.000000       0.000000   \n",
       "50%         0.000000       0.000000       0.000000       0.000000   \n",
       "75%         0.000000       0.000000       0.000000       0.000000   \n",
       "max         1.000000       1.000000       1.000000       4.000000   \n",
       "\n",
       "        SMS_received  \n",
       "count  110527.000000  \n",
       "mean        0.321026  \n",
       "std         0.466873  \n",
       "min         0.000000  \n",
       "25%         0.000000  \n",
       "50%         0.000000  \n",
       "75%         1.000000  \n",
       "max         1.000000  "
      ]
     },
     "execution_count": 7,
     "metadata": {},
     "output_type": "execute_result"
    }
   ],
   "source": [
    "appt_df.describe()"
   ]
  },
  {
   "cell_type": "markdown",
   "metadata": {},
   "source": [
    "The AppointmentID values are ints and should be strings. ScheduledDay and AppointmentDay should both be in datetime format instead of strings. Column names have typos, inconsistant capitilization, and inconsistant formatting. All yes or no columns, such as Alcoholism, SMS_recieved, and No-show, should be bolleans, instead of ints and strings."
   ]
  },
  {
   "attachments": {},
   "cell_type": "markdown",
   "metadata": {},
   "source": [
    "### Data Cleaning"
   ]
  },
  {
   "attachments": {},
   "cell_type": "markdown",
   "metadata": {},
   "source": [
    "Before I begin cleaning the data, I will make a copy of the original dataframe."
   ]
  },
  {
   "cell_type": "code",
   "execution_count": 8,
   "metadata": {},
   "outputs": [],
   "source": [
    "# Creating a copy of the dataset\n",
    "\n",
    "appt_copy = appt_df.copy()"
   ]
  },
  {
   "attachments": {},
   "cell_type": "markdown",
   "metadata": {},
   "source": [
    "Here I have changed the column names to be more consistent and descriptive."
   ]
  },
  {
   "cell_type": "code",
   "execution_count": 9,
   "metadata": {},
   "outputs": [],
   "source": [
    "# Changing the column names to correct misspellings and to make them more concide and readable.\n",
    "\n",
    "appt_copy.columns = ['patient_id', 'appointment_id', 'gender', 'scheduled_day', 'appointment_day', 'age','neighbourhood', \n",
    "                   'bolsa_familia', 'hypertension', 'diabetes', 'alcoholism', 'handicapped', 'received_sms', 'arrival_status']"
   ]
  },
  {
   "attachments": {},
   "cell_type": "markdown",
   "metadata": {},
   "source": [
    "In the next few steps I have changed to data types of the columns as well as the values in the columns to be more useful for analysis."
   ]
  },
  {
   "cell_type": "code",
   "execution_count": 10,
   "metadata": {
    "scrolled": true
   },
   "outputs": [],
   "source": [
    "# Changing the data type of the appointment_id column to string\n",
    "\n",
    "appt_copy['appointment_id'] = appt_copy['appointment_id'].astype(str)"
   ]
  },
  {
   "cell_type": "code",
   "execution_count": 11,
   "metadata": {},
   "outputs": [],
   "source": [
    "# Changing the data type of the scheduled_day column to datetime\n",
    "\n",
    "appt_copy['scheduled_day'] = pd.to_datetime(appt_copy.scheduled_day)"
   ]
  },
  {
   "cell_type": "code",
   "execution_count": 12,
   "metadata": {},
   "outputs": [],
   "source": [
    "# Changing the data type of the appointment_day column to datetime\n",
    "\n",
    "appt_copy['appointment_day'] = pd.to_datetime(appt_copy.appointment_day)"
   ]
  },
  {
   "cell_type": "code",
   "execution_count": 13,
   "metadata": {},
   "outputs": [],
   "source": [
    "# Changing the data type of the bolsa_familia column to string and changing the values to 'Enrolled' and 'Not Enrolled'\n",
    "\n",
    "appt_copy['bolsa_familia'] = appt_copy['bolsa_familia'].astype(str)\n",
    "appt_copy['bolsa_familia'] = appt_copy['bolsa_familia'].apply(lambda x: 'Enrolled' if x == '1' else 'Not Enrolled')"
   ]
  },
  {
   "cell_type": "code",
   "execution_count": 14,
   "metadata": {},
   "outputs": [],
   "source": [
    "# Changing the data type of the hypertension column to string and changing the values to 'Yes' and 'No'\n",
    "\n",
    "appt_copy['hypertension'] = appt_copy['hypertension'].astype(str)\n",
    "appt_copy['hypertension'] = appt_copy['hypertension'].apply(lambda x: 'Yes' if x == '1' else 'No')"
   ]
  },
  {
   "cell_type": "code",
   "execution_count": 15,
   "metadata": {},
   "outputs": [],
   "source": [
    "# Changing the data type of the diabetes column to string and changing the values to 'Yes' and 'No'\n",
    "\n",
    "appt_copy['diabetes'] = appt_copy['diabetes'].astype(str)\n",
    "appt_copy['diabetes'] = appt_copy['diabetes'].apply(lambda x: 'Yes' if x == '1' else 'No')"
   ]
  },
  {
   "cell_type": "code",
   "execution_count": 16,
   "metadata": {},
   "outputs": [],
   "source": [
    "# Changing the data type of the alcoholism column to string and changing the values to 'Yes' and 'No'\n",
    "\n",
    "appt_copy['alcoholism'] = appt_copy['alcoholism'].astype(str)\n",
    "appt_copy['alcoholism'] = appt_copy['alcoholism'].apply(lambda x: 'Yes' if x == '1' else 'No')"
   ]
  },
  {
   "cell_type": "code",
   "execution_count": 17,
   "metadata": {},
   "outputs": [],
   "source": [
    "# Changing the data type of the handicapped column to string and changing the values to 'Yes' and 'No'\n",
    "\n",
    "appt_copy['handicapped'] = appt_copy['handicapped'].astype(str)\n",
    "appt_copy['handicapped'] = appt_copy['handicapped'].apply(lambda x: 'Yes' if x == '1' else 'No')"
   ]
  },
  {
   "cell_type": "code",
   "execution_count": 18,
   "metadata": {},
   "outputs": [],
   "source": [
    "# Changing the data type of the received_sms column to string and changing the values to 'Yes' and 'No'\n",
    "\n",
    "appt_copy['received_sms'] = appt_copy['received_sms'].astype(str)\n",
    "appt_copy['received_sms'] = appt_copy['received_sms'].apply(lambda x: 'Yes' if x == '1' else 'No')"
   ]
  },
  {
   "cell_type": "code",
   "execution_count": 19,
   "metadata": {},
   "outputs": [],
   "source": [
    "# Changing the data type of the arrival_status column to string and changing the values to 'Arrived' and 'Did Not Arrive'\n",
    "\n",
    "appt_copy['arrival_status'] = appt_copy['arrival_status'].astype(str)\n",
    "appt_copy['arrival_status'] = appt_copy['arrival_status'].apply(lambda x: 'Did Not Arrive' if x == 'Yes' else 'Arrived')"
   ]
  },
  {
   "attachments": {},
   "cell_type": "markdown",
   "metadata": {},
   "source": [
    "Now that the data had been cleaned, I checked a random sample to make sure the changes were made correctly. I also checked the data types of each column to make sure they were correct."
   ]
  },
  {
   "cell_type": "code",
   "execution_count": 20,
   "metadata": {
    "scrolled": false
   },
   "outputs": [
    {
     "data": {
      "text/html": [
       "<div>\n",
       "<style scoped>\n",
       "    .dataframe tbody tr th:only-of-type {\n",
       "        vertical-align: middle;\n",
       "    }\n",
       "\n",
       "    .dataframe tbody tr th {\n",
       "        vertical-align: top;\n",
       "    }\n",
       "\n",
       "    .dataframe thead th {\n",
       "        text-align: right;\n",
       "    }\n",
       "</style>\n",
       "<table border=\"1\" class=\"dataframe\">\n",
       "  <thead>\n",
       "    <tr style=\"text-align: right;\">\n",
       "      <th></th>\n",
       "      <th>patient_id</th>\n",
       "      <th>appointment_id</th>\n",
       "      <th>gender</th>\n",
       "      <th>scheduled_day</th>\n",
       "      <th>appointment_day</th>\n",
       "      <th>age</th>\n",
       "      <th>neighbourhood</th>\n",
       "      <th>bolsa_familia</th>\n",
       "      <th>hypertension</th>\n",
       "      <th>diabetes</th>\n",
       "      <th>alcoholism</th>\n",
       "      <th>handicapped</th>\n",
       "      <th>received_sms</th>\n",
       "      <th>arrival_status</th>\n",
       "    </tr>\n",
       "  </thead>\n",
       "  <tbody>\n",
       "    <tr>\n",
       "      <th>56051</th>\n",
       "      <td>5.435124e+12</td>\n",
       "      <td>5660035</td>\n",
       "      <td>F</td>\n",
       "      <td>2016-05-04 15:21:46+00:00</td>\n",
       "      <td>2016-05-04 00:00:00+00:00</td>\n",
       "      <td>51</td>\n",
       "      <td>REDENÇÃO</td>\n",
       "      <td>Not Enrolled</td>\n",
       "      <td>No</td>\n",
       "      <td>No</td>\n",
       "      <td>No</td>\n",
       "      <td>No</td>\n",
       "      <td>No</td>\n",
       "      <td>Arrived</td>\n",
       "    </tr>\n",
       "    <tr>\n",
       "      <th>85659</th>\n",
       "      <td>8.882854e+14</td>\n",
       "      <td>5762100</td>\n",
       "      <td>F</td>\n",
       "      <td>2016-06-02 07:22:59+00:00</td>\n",
       "      <td>2016-06-02 00:00:00+00:00</td>\n",
       "      <td>15</td>\n",
       "      <td>CARATOÍRA</td>\n",
       "      <td>Enrolled</td>\n",
       "      <td>No</td>\n",
       "      <td>No</td>\n",
       "      <td>No</td>\n",
       "      <td>No</td>\n",
       "      <td>No</td>\n",
       "      <td>Arrived</td>\n",
       "    </tr>\n",
       "    <tr>\n",
       "      <th>1135</th>\n",
       "      <td>6.714635e+09</td>\n",
       "      <td>5576760</td>\n",
       "      <td>F</td>\n",
       "      <td>2016-04-13 08:56:03+00:00</td>\n",
       "      <td>2016-04-29 00:00:00+00:00</td>\n",
       "      <td>19</td>\n",
       "      <td>GURIGICA</td>\n",
       "      <td>Not Enrolled</td>\n",
       "      <td>No</td>\n",
       "      <td>No</td>\n",
       "      <td>No</td>\n",
       "      <td>No</td>\n",
       "      <td>Yes</td>\n",
       "      <td>Did Not Arrive</td>\n",
       "    </tr>\n",
       "    <tr>\n",
       "      <th>90107</th>\n",
       "      <td>9.649300e+10</td>\n",
       "      <td>5768669</td>\n",
       "      <td>F</td>\n",
       "      <td>2016-06-03 07:53:09+00:00</td>\n",
       "      <td>2016-06-03 00:00:00+00:00</td>\n",
       "      <td>6</td>\n",
       "      <td>GRANDE VITÓRIA</td>\n",
       "      <td>Not Enrolled</td>\n",
       "      <td>No</td>\n",
       "      <td>No</td>\n",
       "      <td>No</td>\n",
       "      <td>No</td>\n",
       "      <td>No</td>\n",
       "      <td>Arrived</td>\n",
       "    </tr>\n",
       "    <tr>\n",
       "      <th>82281</th>\n",
       "      <td>7.994689e+13</td>\n",
       "      <td>5587321</td>\n",
       "      <td>F</td>\n",
       "      <td>2016-04-15 08:32:51+00:00</td>\n",
       "      <td>2016-05-09 00:00:00+00:00</td>\n",
       "      <td>78</td>\n",
       "      <td>DA PENHA</td>\n",
       "      <td>Not Enrolled</td>\n",
       "      <td>No</td>\n",
       "      <td>No</td>\n",
       "      <td>No</td>\n",
       "      <td>No</td>\n",
       "      <td>No</td>\n",
       "      <td>Did Not Arrive</td>\n",
       "    </tr>\n",
       "  </tbody>\n",
       "</table>\n",
       "</div>"
      ],
      "text/plain": [
       "         patient_id appointment_id gender             scheduled_day  \\\n",
       "56051  5.435124e+12        5660035      F 2016-05-04 15:21:46+00:00   \n",
       "85659  8.882854e+14        5762100      F 2016-06-02 07:22:59+00:00   \n",
       "1135   6.714635e+09        5576760      F 2016-04-13 08:56:03+00:00   \n",
       "90107  9.649300e+10        5768669      F 2016-06-03 07:53:09+00:00   \n",
       "82281  7.994689e+13        5587321      F 2016-04-15 08:32:51+00:00   \n",
       "\n",
       "                appointment_day  age   neighbourhood bolsa_familia  \\\n",
       "56051 2016-05-04 00:00:00+00:00   51        REDENÇÃO  Not Enrolled   \n",
       "85659 2016-06-02 00:00:00+00:00   15       CARATOÍRA      Enrolled   \n",
       "1135  2016-04-29 00:00:00+00:00   19        GURIGICA  Not Enrolled   \n",
       "90107 2016-06-03 00:00:00+00:00    6  GRANDE VITÓRIA  Not Enrolled   \n",
       "82281 2016-05-09 00:00:00+00:00   78        DA PENHA  Not Enrolled   \n",
       "\n",
       "      hypertension diabetes alcoholism handicapped received_sms  \\\n",
       "56051           No       No         No          No           No   \n",
       "85659           No       No         No          No           No   \n",
       "1135            No       No         No          No          Yes   \n",
       "90107           No       No         No          No           No   \n",
       "82281           No       No         No          No           No   \n",
       "\n",
       "       arrival_status  \n",
       "56051         Arrived  \n",
       "85659         Arrived  \n",
       "1135   Did Not Arrive  \n",
       "90107         Arrived  \n",
       "82281  Did Not Arrive  "
      ]
     },
     "execution_count": 20,
     "metadata": {},
     "output_type": "execute_result"
    }
   ],
   "source": [
    "appt_copy.sample(5)"
   ]
  },
  {
   "cell_type": "code",
   "execution_count": 21,
   "metadata": {},
   "outputs": [
    {
     "name": "stdout",
     "output_type": "stream",
     "text": [
      "<class 'pandas.core.frame.DataFrame'>\n",
      "RangeIndex: 110527 entries, 0 to 110526\n",
      "Data columns (total 14 columns):\n",
      " #   Column           Non-Null Count   Dtype              \n",
      "---  ------           --------------   -----              \n",
      " 0   patient_id       110527 non-null  float64            \n",
      " 1   appointment_id   110527 non-null  object             \n",
      " 2   gender           110527 non-null  object             \n",
      " 3   scheduled_day    110527 non-null  datetime64[ns, UTC]\n",
      " 4   appointment_day  110527 non-null  datetime64[ns, UTC]\n",
      " 5   age              110527 non-null  int64              \n",
      " 6   neighbourhood    110527 non-null  object             \n",
      " 7   bolsa_familia    110527 non-null  object             \n",
      " 8   hypertension     110527 non-null  object             \n",
      " 9   diabetes         110527 non-null  object             \n",
      " 10  alcoholism       110527 non-null  object             \n",
      " 11  handicapped      110527 non-null  object             \n",
      " 12  received_sms     110527 non-null  object             \n",
      " 13  arrival_status   110527 non-null  object             \n",
      "dtypes: datetime64[ns, UTC](2), float64(1), int64(1), object(10)\n",
      "memory usage: 11.8+ MB\n"
     ]
    }
   ],
   "source": [
    "appt_copy.info()"
   ]
  },
  {
   "attachments": {},
   "cell_type": "markdown",
   "metadata": {},
   "source": [
    "## Exploratory Data Analysis"
   ]
  },
  {
   "attachments": {},
   "cell_type": "markdown",
   "metadata": {},
   "source": [
    "##  What characteristics are most common among patients that schedule appointments?"
   ]
  },
  {
   "attachments": {},
   "cell_type": "markdown",
   "metadata": {},
   "source": [
    "### Examining the 'age' values"
   ]
  },
  {
   "cell_type": "code",
   "execution_count": 22,
   "metadata": {},
   "outputs": [
    {
     "data": {
      "text/plain": [
       " 0      3539\n",
       " 1      2273\n",
       " 52     1746\n",
       " 49     1652\n",
       " 53     1651\n",
       "        ... \n",
       " 115       5\n",
       " 100       4\n",
       " 102       2\n",
       " 99        1\n",
       "-1         1\n",
       "Name: age, Length: 104, dtype: int64"
      ]
     },
     "execution_count": 22,
     "metadata": {},
     "output_type": "execute_result"
    }
   ],
   "source": [
    "appt_copy['age'].value_counts()"
   ]
  },
  {
   "cell_type": "code",
   "execution_count": 23,
   "metadata": {},
   "outputs": [
    {
     "data": {
      "text/plain": [
       "0     3539\n",
       "1     2273\n",
       "52    1746\n",
       "49    1652\n",
       "53    1651\n",
       "56    1635\n",
       "38    1629\n",
       "59    1624\n",
       "2     1618\n",
       "50    1613\n",
       "Name: age, dtype: int64"
      ]
     },
     "execution_count": 23,
     "metadata": {},
     "output_type": "execute_result"
    }
   ],
   "source": [
    "appt_copy['age'].value_counts()[0:10:1]"
   ]
  },
  {
   "cell_type": "code",
   "execution_count": 24,
   "metadata": {},
   "outputs": [
    {
     "data": {
      "text/plain": [
       "-1       1\n",
       " 99      1\n",
       " 102     2\n",
       " 100     4\n",
       " 115     5\n",
       " 98      6\n",
       " 97     11\n",
       " 96     17\n",
       " 95     24\n",
       " 94     33\n",
       "Name: age, dtype: int64"
      ]
     },
     "execution_count": 24,
     "metadata": {},
     "output_type": "execute_result"
    }
   ],
   "source": [
    "appt_copy['age'].value_counts()[104:93:-1]"
   ]
  },
  {
   "cell_type": "code",
   "execution_count": 25,
   "metadata": {},
   "outputs": [
    {
     "data": {
      "text/plain": [
       "37.0"
      ]
     },
     "execution_count": 25,
     "metadata": {},
     "output_type": "execute_result"
    }
   ],
   "source": [
    "round(appt_copy['age'].mean(), 0)"
   ]
  },
  {
   "attachments": {},
   "cell_type": "markdown",
   "metadata": {},
   "source": [
    "After examining the 'age' values, it was determined that there were many values that were less than 0 and some values that was greater than 100. These values were removed from the dataset.\n",
    "Furthermore, such a wide range of ages was found to be unhelpful for the analysis. Therefore, the ages were grouped into 10 year intervals and appended to the dataset as a new column.\n",
    "Original age values were kept in the dataset for reference."
   ]
  },
  {
   "cell_type": "code",
   "execution_count": 26,
   "metadata": {},
   "outputs": [],
   "source": [
    "# Changing the data type of the age column to integer\n",
    "\n",
    "appt_copy['age'] = appt_copy['age'].astype(int)"
   ]
  },
  {
   "cell_type": "code",
   "execution_count": 27,
   "metadata": {},
   "outputs": [],
   "source": [
    "# Removing the outliers from the age column\n",
    "\n",
    "appt_copy = appt_copy[appt_copy['age'] <= 100]\n",
    "appt_copy = appt_copy[appt_copy['age'] > 0]"
   ]
  },
  {
   "cell_type": "code",
   "execution_count": 28,
   "metadata": {},
   "outputs": [],
   "source": [
    "# Creating a new column called age_range to categorize the age column\n",
    "\n",
    "appt_copy['age_range'] = pd.cut(appt_copy['age'], bins = [0, 10, 20, 30, 40, 50, 60, 70, 80, 90, 100])"
   ]
  },
  {
   "cell_type": "code",
   "execution_count": 29,
   "metadata": {},
   "outputs": [],
   "source": [
    "# Changing the data type of the age_range column to string\n",
    "\n",
    "appt_copy['age_range'] = appt_copy['age_range'].astype(str)"
   ]
  },
  {
   "cell_type": "code",
   "execution_count": 30,
   "metadata": {},
   "outputs": [],
   "source": [
    "# Removing the brackets from the age_range column and replacing the comma with a hyphen\n",
    "\n",
    "appt_copy['age_range'] = appt_copy['age_range'].str.replace('[\\[\\]()]', '', regex=True)\n",
    "appt_copy['age_range'] = appt_copy['age_range'].str.replace('[,]', '-', regex=True)"
   ]
  },
  {
   "attachments": {},
   "cell_type": "markdown",
   "metadata": {},
   "source": [
    "Now that I had the ages grouped and the column appropriately named formatted I plotted the age_range data to see the distribution of age ranges as well as what trends exsisted within the ages vs number of scheduled appointments."
   ]
  },
  {
   "cell_type": "code",
   "execution_count": 31,
   "metadata": {},
   "outputs": [],
   "source": [
    "# Group the data by age range and count the number of occurrences\n",
    "\n",
    "age_range_counts = appt_copy.groupby(['age_range'])['age'].count()"
   ]
  },
  {
   "cell_type": "code",
   "execution_count": 32,
   "metadata": {},
   "outputs": [
    {
     "data": {
      "image/png": "[encoded data removed]",
      "text/plain": [
       "<Figure size 1440x720 with 1 Axes>"
      ]
     },
     "metadata": {
      "needs_background": "light"
     },
     "output_type": "display_data"
    },
    {
     "data": {
      "text/plain": [
       "age_range\n",
       "0- 10      15210\n",
       "10- 20     13099\n",
       "20- 30     13783\n",
       "30- 40     15052\n",
       "40- 50     14420\n",
       "50- 60     15661\n",
       "60- 70     11189\n",
       "70- 80      5721\n",
       "80- 90      2544\n",
       "90- 100      301\n",
       "Name: age, dtype: int64"
      ]
     },
     "execution_count": 32,
     "metadata": {},
     "output_type": "execute_result"
    }
   ],
   "source": [
    "# Plot the age range counts as a bar graph\n",
    "\n",
    "plt.figure(figsize=(20,10))\n",
    "plt.bar(age_range_counts.index, age_range_counts.values, color = 'lightblue')\n",
    "plt.plot(age_range_counts.index, age_range_counts.values, color = 'blue', marker = 'o', linestyle = 'solid', linewidth = 1, markersize = 0)\n",
    "\n",
    "# Add a title and axis labels to the graph\n",
    "\n",
    "plt.title('Number of Appointments by Age Range')\n",
    "plt.xlabel('Age Range')\n",
    "plt.ylabel('Number of Appointments')\n",
    "plt.xticks(rotation=0)\n",
    "plt.bar_label(plt.gca().containers[0], fmt = '%.0f')\n",
    "\n",
    "\n",
    "# Show the plot\n",
    "\n",
    "plt.show()\n",
    "\n",
    "# Print the age range counts table\n",
    "\n",
    "age_range_counts"
   ]
  },
  {
   "attachments": {},
   "cell_type": "markdown",
   "metadata": {},
   "source": [
    "What can be observed from the above graph is that the number of appointments scheduled decreases consistently and rapidly after age 60."
   ]
  },
  {
   "attachments": {},
   "cell_type": "markdown",
   "metadata": {},
   "source": [
    "I have also made the judgement call that the age range of 90 - 100, which is significantly smaller than the other age ranges, is not worth including in the analysis. Therefore, I have removed those values from my analysis dataset."
   ]
  },
  {
   "attachments": {},
   "cell_type": "markdown",
   "metadata": {},
   "source": [
    "### Examing the 'gender' values"
   ]
  },
  {
   "cell_type": "code",
   "execution_count": 33,
   "metadata": {},
   "outputs": [
    {
     "data": {
      "text/plain": [
       "F    70111\n",
       "M    36869\n",
       "Name: gender, dtype: int64"
      ]
     },
     "execution_count": 33,
     "metadata": {},
     "output_type": "execute_result"
    }
   ],
   "source": [
    "appt_copy['gender'].value_counts()"
   ]
  },
  {
   "cell_type": "code",
   "execution_count": 34,
   "metadata": {},
   "outputs": [],
   "source": [
    "# Creating a new variable that groups the dataset by gender and counts the number of occurrences\n",
    "\n",
    "gender_counts = appt_copy.groupby(['gender'])['appointment_id'].count()"
   ]
  },
  {
   "cell_type": "code",
   "execution_count": 35,
   "metadata": {},
   "outputs": [
    {
     "data": {
      "image/png": "[encoded data removed]",
      "text/plain": [
       "<Figure size 720x576 with 1 Axes>"
      ]
     },
     "metadata": {},
     "output_type": "display_data"
    }
   ],
   "source": [
    "# Creates a pie chart of the percentage of males and females that scheduled appointments\n",
    "\n",
    "plt.figure(figsize=(10,8))\n",
    "plt.pie(gender_counts, labels= gender_counts.index, autopct='%1.1f%%', startangle=90, colors = ['pink', 'lightblue'])\n",
    "plt.title('Percent of Scheduled Appointments by Gender')\n",
    "plt.legend()\n",
    "\n",
    "# Show the plot\n",
    "\n",
    "plt.show()"
   ]
  },
  {
   "attachments": {},
   "cell_type": "markdown",
   "metadata": {},
   "source": [
    "The above pie chart demonstrates appointments are scheduled for female patients far more often than for male patients, with nearly double the percentage of appointments being for female patients."
   ]
  },
  {
   "attachments": {},
   "cell_type": "markdown",
   "metadata": {},
   "source": [
    "### Examining the 'bolsa_familia' values"
   ]
  },
  {
   "cell_type": "code",
   "execution_count": 36,
   "metadata": {},
   "outputs": [
    {
     "data": {
      "text/plain": [
       "Not Enrolled    96171\n",
       "Enrolled        10809\n",
       "Name: bolsa_familia, dtype: int64"
      ]
     },
     "execution_count": 36,
     "metadata": {},
     "output_type": "execute_result"
    }
   ],
   "source": [
    "appt_copy['bolsa_familia'].value_counts()"
   ]
  },
  {
   "cell_type": "code",
   "execution_count": 37,
   "metadata": {},
   "outputs": [],
   "source": [
    "# Creating a new variable that groups the dataset by bolsa_familia and counts the number of occurrences\n",
    "\n",
    "bolsa_familia_counts = appt_copy.groupby(['bolsa_familia'])['appointment_id'].count()"
   ]
  },
  {
   "cell_type": "code",
   "execution_count": 38,
   "metadata": {},
   "outputs": [
    {
     "data": {
      "image/png": "[encoded data removed]",
      "text/plain": [
       "<Figure size 720x360 with 1 Axes>"
      ]
     },
     "metadata": {
      "needs_background": "light"
     },
     "output_type": "display_data"
    }
   ],
   "source": [
    "# Graph the number of appointments scheduled by enrollment status\n",
    "\n",
    "plt.figure(figsize = (10,5))\n",
    "plt.barh(bolsa_familia_counts.index, bolsa_familia_counts.values, color = 'blue')\n",
    "plt.title('Count of Appoinments Scheduled by Bolsa Familia Enrollment')\n",
    "plt.xlabel('Number of Appointments')\n",
    "plt.ylabel('Enrollment Status')\n",
    "\n",
    "# Show the plot\n",
    "\n",
    "plt.show()"
   ]
  },
  {
   "attachments": {},
   "cell_type": "markdown",
   "metadata": {},
   "source": [
    "### Examing how the combined 'bolsa_familia' and 'gender' values affect the number of scheduled appointments."
   ]
  },
  {
   "cell_type": "code",
   "execution_count": 39,
   "metadata": {},
   "outputs": [],
   "source": [
    "# Creating a new variable that groups the dataset by bolsa_familia and gender and counts the number of occurrences\n",
    "\n",
    "bg_grouped = appt_copy.groupby(['bolsa_familia', 'gender']).size().reset_index(name = 'counts')"
   ]
  },
  {
   "cell_type": "code",
   "execution_count": 40,
   "metadata": {},
   "outputs": [],
   "source": [
    "# Creating a pivot table based on the bg_grouped variable\n",
    "\n",
    "bg_pivot = bg_grouped.pivot(index = 'bolsa_familia', columns = 'gender', values = 'counts')"
   ]
  },
  {
   "cell_type": "code",
   "execution_count": 41,
   "metadata": {},
   "outputs": [
    {
     "data": {
      "text/plain": [
       "<matplotlib.legend.Legend at 0x1904ed6ea70>"
      ]
     },
     "execution_count": 41,
     "metadata": {},
     "output_type": "execute_result"
    },
    {
     "data": {
      "image/png": "[encoded data removed]",
      "text/plain": [
       "<Figure size 432x288 with 1 Axes>"
      ]
     },
     "metadata": {
      "needs_background": "light"
     },
     "output_type": "display_data"
    }
   ],
   "source": [
    "# Plotting the pivot table as a stacked bar graph\n",
    "\n",
    "bg_barh = bg_pivot.plot(kind = 'barh', stacked = True, color = ['pink', 'lightblue'])\n",
    "plt.xlabel('Count of Appointments Scheduled')\n",
    "plt.ylabel('Bolsa Família Enrollment Status')\n",
    "plt.legend(['Female', 'Male'], loc = 'upper left')"
   ]
  },
  {
   "cell_type": "code",
   "execution_count": 42,
   "metadata": {},
   "outputs": [],
   "source": [
    "# Creating a new variable that groups the dataset by bolsa_familia and gender and counts the number of occurrences\n",
    "\n",
    "gb_grouped = appt_copy.groupby(['gender', 'bolsa_familia']).size().reset_index(name = 'counts')"
   ]
  },
  {
   "cell_type": "code",
   "execution_count": 43,
   "metadata": {},
   "outputs": [],
   "source": [
    "# Creating a pivot table based on the bg_grouped variable\n",
    "\n",
    "gb_pivot = gb_grouped.pivot(index = 'gender', columns = 'bolsa_familia', values = 'counts')"
   ]
  },
  {
   "cell_type": "code",
   "execution_count": 79,
   "metadata": {},
   "outputs": [
    {
     "data": {
      "image/png": "[encoded data removed]",
      "text/plain": [
       "<Figure size 432x288 with 1 Axes>"
      ]
     },
     "metadata": {
      "needs_background": "light"
     },
     "output_type": "display_data"
    },
    {
     "data": {
      "image/png": "[encoded data removed]",
      "text/plain": [
       "<Figure size 432x288 with 1 Axes>"
      ]
     },
     "metadata": {
      "needs_background": "light"
     },
     "output_type": "display_data"
    }
   ],
   "source": [
    "\n",
    "bg_pivot.plot(kind = 'barh', stacked = True, color = ['pink', 'lightblue'])\n",
    "plt.xlabel('Count of Appointments Scheduled')\n",
    "plt.ylabel('Bolsa Família Enrollment Status')\n",
    "plt.legend(['Female', 'Male'], loc = 'upper left')\n",
    "\n",
    "gb_pivot.plot(kind = 'barh', stacked = True, color = ['salmon', 'grey'])\n",
    "plt.xlabel('Count of Appointments Scheduled')\n",
    "plt.ylabel('Patient Gender')\n",
    "plt.legend(['Enrolled', 'Not Enrolled'], loc = 'upper right')\n",
    "\n",
    "plt.show()\n",
    "plt.show()\n",
    "\n"
   ]
  },
  {
   "cell_type": "code",
   "execution_count": 75,
   "metadata": {},
   "outputs": [
    {
     "data": {
      "text/html": [
       "<div>\n",
       "<style scoped>\n",
       "    .dataframe tbody tr th:only-of-type {\n",
       "        vertical-align: middle;\n",
       "    }\n",
       "\n",
       "    .dataframe tbody tr th {\n",
       "        vertical-align: top;\n",
       "    }\n",
       "\n",
       "    .dataframe thead th {\n",
       "        text-align: right;\n",
       "    }\n",
       "</style>\n",
       "<table border=\"1\" class=\"dataframe\">\n",
       "  <thead>\n",
       "    <tr style=\"text-align: right;\">\n",
       "      <th>gender</th>\n",
       "      <th>F</th>\n",
       "      <th>M</th>\n",
       "    </tr>\n",
       "    <tr>\n",
       "      <th>bolsa_familia</th>\n",
       "      <th></th>\n",
       "      <th></th>\n",
       "    </tr>\n",
       "  </thead>\n",
       "  <tbody>\n",
       "    <tr>\n",
       "      <th>Enrolled</th>\n",
       "      <td>8826</td>\n",
       "      <td>1983</td>\n",
       "    </tr>\n",
       "    <tr>\n",
       "      <th>Not Enrolled</th>\n",
       "      <td>61285</td>\n",
       "      <td>34886</td>\n",
       "    </tr>\n",
       "  </tbody>\n",
       "</table>\n",
       "</div>"
      ],
      "text/plain": [
       "gender             F      M\n",
       "bolsa_familia              \n",
       "Enrolled        8826   1983\n",
       "Not Enrolled   61285  34886"
      ]
     },
     "execution_count": 75,
     "metadata": {},
     "output_type": "execute_result"
    }
   ],
   "source": [
    "bg_pivot"
   ]
  },
  {
   "cell_type": "code",
   "execution_count": 76,
   "metadata": {},
   "outputs": [
    {
     "data": {
      "text/html": [
       "<div>\n",
       "<style scoped>\n",
       "    .dataframe tbody tr th:only-of-type {\n",
       "        vertical-align: middle;\n",
       "    }\n",
       "\n",
       "    .dataframe tbody tr th {\n",
       "        vertical-align: top;\n",
       "    }\n",
       "\n",
       "    .dataframe thead th {\n",
       "        text-align: right;\n",
       "    }\n",
       "</style>\n",
       "<table border=\"1\" class=\"dataframe\">\n",
       "  <thead>\n",
       "    <tr style=\"text-align: right;\">\n",
       "      <th>bolsa_familia</th>\n",
       "      <th>Enrolled</th>\n",
       "      <th>Not Enrolled</th>\n",
       "    </tr>\n",
       "    <tr>\n",
       "      <th>gender</th>\n",
       "      <th></th>\n",
       "      <th></th>\n",
       "    </tr>\n",
       "  </thead>\n",
       "  <tbody>\n",
       "    <tr>\n",
       "      <th>F</th>\n",
       "      <td>8826</td>\n",
       "      <td>61285</td>\n",
       "    </tr>\n",
       "    <tr>\n",
       "      <th>M</th>\n",
       "      <td>1983</td>\n",
       "      <td>34886</td>\n",
       "    </tr>\n",
       "  </tbody>\n",
       "</table>\n",
       "</div>"
      ],
      "text/plain": [
       "bolsa_familia  Enrolled  Not Enrolled\n",
       "gender                               \n",
       "F                  8826         61285\n",
       "M                  1983         34886"
      ]
     },
     "execution_count": 76,
     "metadata": {},
     "output_type": "execute_result"
    }
   ],
   "source": [
    "gb_pivot"
   ]
  },
  {
   "attachments": {},
   "cell_type": "markdown",
   "metadata": {},
   "source": [
    "Based on the above graphics I only reinforced that more appointments were scheduled by patients that are female and enrolled in the bolsa familia program. "
   ]
  },
  {
   "attachments": {},
   "cell_type": "markdown",
   "metadata": {},
   "source": [
    "## What characteristics are most common among patients that do not show up for their appointments?"
   ]
  },
  {
   "cell_type": "code",
   "execution_count": 46,
   "metadata": {},
   "outputs": [],
   "source": [
    "# Removing the outliers from the age_range column\n",
    "\n",
    "appt_copy = appt_copy[appt_copy['age_range'] != '90- 100']"
   ]
  },
  {
   "cell_type": "code",
   "execution_count": 47,
   "metadata": {},
   "outputs": [],
   "source": [
    "# Count the number of occurrences of each age_range where arrival_status == 'Arrived'\n",
    "\n",
    "age_arrival_status_counts_no = appt_copy[appt_copy['arrival_status'] == 'Arrived'].groupby('age_range')['arrival_status'].count()"
   ]
  },
  {
   "cell_type": "code",
   "execution_count": 48,
   "metadata": {},
   "outputs": [],
   "source": [
    "# Count the number of occurrences of each age_age where arrival_status == 'Did Not Arrive'\n",
    "\n",
    "age_arrival_status_counts_yes = appt_copy[appt_copy['arrival_status'] == 'Did Not Arrive'].groupby('age_range')['arrival_status'].count()"
   ]
  },
  {
   "cell_type": "code",
   "execution_count": 49,
   "metadata": {},
   "outputs": [],
   "source": [
    "# Count the number of occurrences of each age_range\n",
    "\n",
    "age_arrival_status_overall = appt_copy.groupby('age_range')['arrival_status'].count()"
   ]
  },
  {
   "cell_type": "code",
   "execution_count": 50,
   "metadata": {},
   "outputs": [],
   "source": [
    "# Calculate the percentage of appointments that were missed by age_range\n",
    "\n",
    "age_grouped = appt_copy.groupby(['age_range', 'arrival_status']).size().reset_index(name = 'counts')"
   ]
  },
  {
   "cell_type": "code",
   "execution_count": 51,
   "metadata": {},
   "outputs": [],
   "source": [
    "# Create a pivot table to show the percentage of patients who did not arrive for their appointments\n",
    "\n",
    "age_pivot = age_grouped.pivot(index = 'age_range', columns = 'arrival_status', values = 'counts')\n",
    "age_pivot['Arrived'].fillna(0, inplace=True)\n",
    "age_pivot['Did Not Arrive'].fillna(0, inplace=True)\n",
    "age_pivot['Overall'] = age_pivot['Arrived'] + age_pivot['Did Not Arrive']\n",
    "age_pivot['Percent Arrived'] = round((age_pivot['Arrived'] / age_pivot['Overall']) * 100, 2)\n",
    "age_pivot['Percent Arrived'].fillna(100, inplace=True)"
   ]
  },
  {
   "cell_type": "code",
   "execution_count": 52,
   "metadata": {},
   "outputs": [
    {
     "data": {
      "image/png": "[encoded data removed]",
      "text/plain": [
       "<Figure size 1440x720 with 1 Axes>"
      ]
     },
     "metadata": {
      "needs_background": "light"
     },
     "output_type": "display_data"
    },
    {
     "data": {
      "text/html": [
       "<div>\n",
       "<style scoped>\n",
       "    .dataframe tbody tr th:only-of-type {\n",
       "        vertical-align: middle;\n",
       "    }\n",
       "\n",
       "    .dataframe tbody tr th {\n",
       "        vertical-align: top;\n",
       "    }\n",
       "\n",
       "    .dataframe thead th {\n",
       "        text-align: right;\n",
       "    }\n",
       "</style>\n",
       "<table border=\"1\" class=\"dataframe\">\n",
       "  <thead>\n",
       "    <tr style=\"text-align: right;\">\n",
       "      <th>arrival_status</th>\n",
       "      <th>Arrived</th>\n",
       "      <th>Did Not Arrive</th>\n",
       "      <th>Overall</th>\n",
       "      <th>Percent Arrived</th>\n",
       "    </tr>\n",
       "    <tr>\n",
       "      <th>age_range</th>\n",
       "      <th></th>\n",
       "      <th></th>\n",
       "      <th></th>\n",
       "      <th></th>\n",
       "    </tr>\n",
       "  </thead>\n",
       "  <tbody>\n",
       "    <tr>\n",
       "      <th>0- 10</th>\n",
       "      <td>12061</td>\n",
       "      <td>3149</td>\n",
       "      <td>15210</td>\n",
       "      <td>79.30</td>\n",
       "    </tr>\n",
       "    <tr>\n",
       "      <th>10- 20</th>\n",
       "      <td>9791</td>\n",
       "      <td>3308</td>\n",
       "      <td>13099</td>\n",
       "      <td>74.75</td>\n",
       "    </tr>\n",
       "    <tr>\n",
       "      <th>20- 30</th>\n",
       "      <td>10389</td>\n",
       "      <td>3394</td>\n",
       "      <td>13783</td>\n",
       "      <td>75.38</td>\n",
       "    </tr>\n",
       "    <tr>\n",
       "      <th>30- 40</th>\n",
       "      <td>11820</td>\n",
       "      <td>3232</td>\n",
       "      <td>15052</td>\n",
       "      <td>78.53</td>\n",
       "    </tr>\n",
       "    <tr>\n",
       "      <th>40- 50</th>\n",
       "      <td>11550</td>\n",
       "      <td>2870</td>\n",
       "      <td>14420</td>\n",
       "      <td>80.10</td>\n",
       "    </tr>\n",
       "    <tr>\n",
       "      <th>50- 60</th>\n",
       "      <td>12940</td>\n",
       "      <td>2721</td>\n",
       "      <td>15661</td>\n",
       "      <td>82.63</td>\n",
       "    </tr>\n",
       "    <tr>\n",
       "      <th>60- 70</th>\n",
       "      <td>9541</td>\n",
       "      <td>1648</td>\n",
       "      <td>11189</td>\n",
       "      <td>85.27</td>\n",
       "    </tr>\n",
       "    <tr>\n",
       "      <th>70- 80</th>\n",
       "      <td>4832</td>\n",
       "      <td>889</td>\n",
       "      <td>5721</td>\n",
       "      <td>84.46</td>\n",
       "    </tr>\n",
       "    <tr>\n",
       "      <th>80- 90</th>\n",
       "      <td>2137</td>\n",
       "      <td>407</td>\n",
       "      <td>2544</td>\n",
       "      <td>84.00</td>\n",
       "    </tr>\n",
       "  </tbody>\n",
       "</table>\n",
       "</div>"
      ],
      "text/plain": [
       "arrival_status  Arrived  Did Not Arrive  Overall  Percent Arrived\n",
       "age_range                                                        \n",
       "0- 10             12061            3149    15210            79.30\n",
       "10- 20             9791            3308    13099            74.75\n",
       "20- 30            10389            3394    13783            75.38\n",
       "30- 40            11820            3232    15052            78.53\n",
       "40- 50            11550            2870    14420            80.10\n",
       "50- 60            12940            2721    15661            82.63\n",
       "60- 70             9541            1648    11189            85.27\n",
       "70- 80             4832             889     5721            84.46\n",
       "80- 90             2137             407     2544            84.00"
      ]
     },
     "execution_count": 52,
     "metadata": {},
     "output_type": "execute_result"
    }
   ],
   "source": [
    "# Plot the counts of each age\n",
    "\n",
    "plt.figure(figsize=(20,10))\n",
    "\n",
    "plt.bar(age_arrival_status_overall.index, age_arrival_status_overall.values, label = 'Overall', color = 'gray')\n",
    "plt.bar_label(plt.gca().containers[0], fmt = '%.0f')\n",
    "plt.bar(age_arrival_status_counts_no.index, age_arrival_status_counts_no.values, label='Arrived', color = 'lightblue')\n",
    "plt.bar_label(plt.gca().containers[1], fmt = '%.0f')\n",
    "plt.bar(age_arrival_status_counts_yes.index, age_arrival_status_counts_yes.values, label = 'Did Not Arrive', color = 'salmon')\n",
    "plt.bar_label(plt.gca().containers[2], fmt = '%.0f')\n",
    "plt.title('Count of Appointment Arrival Status by Age Range')\n",
    "plt.xlabel('Age')\n",
    "plt.ylabel('Count')\n",
    "plt.legend()\n",
    "\n",
    "# Show the plot\n",
    "\n",
    "plt.show()\n",
    "\n",
    "# Show the pivot table\n",
    "\n",
    "age_pivot.head(10)"
   ]
  },
  {
   "cell_type": "code",
   "execution_count": 53,
   "metadata": {},
   "outputs": [],
   "source": [
    "# Group the data by bolsa_familia and arrival_status and count the occurrences of each combination\n",
    "\n",
    "bf_grouped = appt_copy.groupby(['bolsa_familia', 'arrival_status']).size().reset_index(name = 'counts')"
   ]
  },
  {
   "cell_type": "code",
   "execution_count": 54,
   "metadata": {},
   "outputs": [],
   "source": [
    "# Pivot the grouped data to create a table where each row represents a bolsa_familia value and each column represents a arrival_status value\n",
    "\n",
    "bf_pivot = bf_grouped.pivot(index = 'bolsa_familia', columns = 'arrival_status', values = 'counts')"
   ]
  },
  {
   "cell_type": "code",
   "execution_count": 55,
   "metadata": {},
   "outputs": [],
   "source": [
    "# Adding a column for the total number of appointments for each bolsa_familia value\n",
    "\n",
    "bf_pivot['Percent Arrived'] = round((bf_pivot['Arrived'] / (bf_pivot['Did Not Arrive'] + bf_pivot['Arrived'])) * 100, 2)"
   ]
  },
  {
   "cell_type": "code",
   "execution_count": 57,
   "metadata": {},
   "outputs": [],
   "source": [
    "arrived_bf_grouped = appt_copy.groupby(['arrival_status', 'bolsa_familia']).size().reset_index(name = 'counts')"
   ]
  },
  {
   "cell_type": "code",
   "execution_count": 58,
   "metadata": {},
   "outputs": [],
   "source": [
    "arrived_bf_pivot = arrived_bf_grouped.pivot(index = 'arrival_status', columns = 'bolsa_familia', values = 'counts')"
   ]
  },
  {
   "cell_type": "code",
   "execution_count": 87,
   "metadata": {},
   "outputs": [
    {
     "data": {
      "image/png": "[encoded data removed]",
      "text/plain": [
       "<Figure size 432x288 with 1 Axes>"
      ]
     },
     "metadata": {
      "needs_background": "light"
     },
     "output_type": "display_data"
    },
    {
     "data": {
      "image/png": "[encoded data removed]",
      "text/plain": [
       "<Figure size 432x288 with 1 Axes>"
      ]
     },
     "metadata": {
      "needs_background": "light"
     },
     "output_type": "display_data"
    }
   ],
   "source": [
    "# Plot the pivot table as a stacked bar plot\n",
    "\n",
    "bf_pivot.plot(kind = 'barh', stacked = True)\n",
    "plt.xlabel('Count of Appointments Scheduled')\n",
    "plt.ylabel('Bolsa Família Enrollment Status')\n",
    "plt.title('Count of Bolsa Família Enrollments by Appointment Arrival Status')\n",
    "plt.legend(['Arrived', 'Did Not Arrive'], loc = 'lower right')\n",
    "\n",
    "# Show the plot\n",
    "\n",
    "plt.show()\n",
    "\n",
    "# Plot the pivot table as a stacked bar plot\n",
    "\n",
    "arrived_bf_pivot.plot(kind = 'barh', stacked = True)\n",
    "plt.xlabel('Count of Appointments Scheduled')\n",
    "plt.ylabel('Appointment Arrival Status')\n",
    "plt.title('Count of Appointment Arrival Status by Bolsa Família Enrollment Status')\n",
    "plt.legend(['Enrolled', 'Not Enrolled'], loc = 'upper right')\n",
    "\n",
    "# Show the plot\n",
    "\n",
    "plt.show()"
   ]
  },
  {
   "cell_type": "code",
   "execution_count": 88,
   "metadata": {},
   "outputs": [
    {
     "data": {
      "text/html": [
       "<div>\n",
       "<style scoped>\n",
       "    .dataframe tbody tr th:only-of-type {\n",
       "        vertical-align: middle;\n",
       "    }\n",
       "\n",
       "    .dataframe tbody tr th {\n",
       "        vertical-align: top;\n",
       "    }\n",
       "\n",
       "    .dataframe thead th {\n",
       "        text-align: right;\n",
       "    }\n",
       "</style>\n",
       "<table border=\"1\" class=\"dataframe\">\n",
       "  <thead>\n",
       "    <tr style=\"text-align: right;\">\n",
       "      <th>arrival_status</th>\n",
       "      <th>Arrived</th>\n",
       "      <th>Did Not Arrive</th>\n",
       "      <th>Percent Arrived</th>\n",
       "    </tr>\n",
       "    <tr>\n",
       "      <th>bolsa_familia</th>\n",
       "      <th></th>\n",
       "      <th></th>\n",
       "      <th></th>\n",
       "    </tr>\n",
       "  </thead>\n",
       "  <tbody>\n",
       "    <tr>\n",
       "      <th>Enrolled</th>\n",
       "      <td>8238</td>\n",
       "      <td>2571</td>\n",
       "      <td>76.21</td>\n",
       "    </tr>\n",
       "    <tr>\n",
       "      <th>Not Enrolled</th>\n",
       "      <td>76823</td>\n",
       "      <td>19047</td>\n",
       "      <td>80.13</td>\n",
       "    </tr>\n",
       "  </tbody>\n",
       "</table>\n",
       "</div>"
      ],
      "text/plain": [
       "arrival_status  Arrived  Did Not Arrive  Percent Arrived\n",
       "bolsa_familia                                           \n",
       "Enrolled           8238            2571            76.21\n",
       "Not Enrolled      76823           19047            80.13"
      ]
     },
     "execution_count": 88,
     "metadata": {},
     "output_type": "execute_result"
    }
   ],
   "source": [
    "# Show the pivot table\n",
    "\n",
    "bf_pivot"
   ]
  },
  {
   "cell_type": "code",
   "execution_count": 89,
   "metadata": {},
   "outputs": [
    {
     "data": {
      "text/html": [
       "<div>\n",
       "<style scoped>\n",
       "    .dataframe tbody tr th:only-of-type {\n",
       "        vertical-align: middle;\n",
       "    }\n",
       "\n",
       "    .dataframe tbody tr th {\n",
       "        vertical-align: top;\n",
       "    }\n",
       "\n",
       "    .dataframe thead th {\n",
       "        text-align: right;\n",
       "    }\n",
       "</style>\n",
       "<table border=\"1\" class=\"dataframe\">\n",
       "  <thead>\n",
       "    <tr style=\"text-align: right;\">\n",
       "      <th>bolsa_familia</th>\n",
       "      <th>Enrolled</th>\n",
       "      <th>Not Enrolled</th>\n",
       "    </tr>\n",
       "    <tr>\n",
       "      <th>arrival_status</th>\n",
       "      <th></th>\n",
       "      <th></th>\n",
       "    </tr>\n",
       "  </thead>\n",
       "  <tbody>\n",
       "    <tr>\n",
       "      <th>Arrived</th>\n",
       "      <td>8238</td>\n",
       "      <td>76823</td>\n",
       "    </tr>\n",
       "    <tr>\n",
       "      <th>Did Not Arrive</th>\n",
       "      <td>2571</td>\n",
       "      <td>19047</td>\n",
       "    </tr>\n",
       "  </tbody>\n",
       "</table>\n",
       "</div>"
      ],
      "text/plain": [
       "bolsa_familia   Enrolled  Not Enrolled\n",
       "arrival_status                        \n",
       "Arrived             8238         76823\n",
       "Did Not Arrive      2571         19047"
      ]
     },
     "execution_count": 89,
     "metadata": {},
     "output_type": "execute_result"
    }
   ],
   "source": [
    "# Show the pivot table\n",
    "\n",
    "arrived_bf_pivot"
   ]
  },
  {
   "attachments": {},
   "cell_type": "markdown",
   "metadata": {},
   "source": [
    "## Conclusions"
   ]
  },
  {
   "attachments": {},
   "cell_type": "markdown",
   "metadata": {},
   "source": [
    "#### What characteristics are most common among patients that schedule appointments?"
   ]
  },
  {
   "attachments": {},
   "cell_type": "markdown",
   "metadata": {},
   "source": [
    "1. The number of appointments scheduled decreases consistently and rapidly after age 60. Therefore, most appointments are for individuals under the age of 60.\n",
    "  \n",
    "2. Females are significantly more likely to have an appointment than males.  \n",
    "  \n",
    "3. Individuals not enrolled in the bolsa familia program are more likely to have an appointment than individuals enrolled in the bolsa familia program."
   ]
  },
  {
   "attachments": {},
   "cell_type": "markdown",
   "metadata": {},
   "source": [
    "#### What characteristics are most common among patients that do not show up for their appointments?"
   ]
  },
  {
   "attachments": {},
   "cell_type": "markdown",
   "metadata": {},
   "source": [
    "1. The number of patients that arrived for their appointments did not differ much across age ranges. The percentage of patients that arrived went up slightly in later age brackets, but the difference was not significant.  \n",
    "\n",
    "2. Much the same as with the amount of scheduled appointments, the number of pateints arriving for their appointments is much higher for those not enrolled in the bolsa familia program."
   ]
  },
  {
   "attachments": {},
   "cell_type": "markdown",
   "metadata": {},
   "source": [
    "##### Limitations"
   ]
  },
  {
   "attachments": {},
   "cell_type": "markdown",
   "metadata": {},
   "source": [
    "The biggest limitation of this dataset is that a large number of outside factors are not documented. Thus leaving many takeaways based laregly on conjecture as opposed to statistical analysis. I feel that for the analysis to more accurate and informative other datasets would need to be utilised, such as census data, to provide a more complete picture of the population of patients, and perhaps a more complete understanding of the Brasilian welfare program to understand its reach and impact on the population. Without more information, it is difficult to draw any definitive conclusions from this dataset that could actually be impactful."
   ]
  },
  {
   "attachments": {},
   "cell_type": "markdown",
   "metadata": {},
   "source": [
    "## OPTIONAL: Question for the reviewer\n",
    "\n",
    "**Why did I need the update pandas line? I actually needed to comment it out when I was working on it on my local machine, and just left it out of the code entirely.**\n",
    "**I would also like to request feedback on my choices for visualizations. I am not sure if I chose the best ones.**"
   ]
  },
  {
   "cell_type": "code",
   "execution_count": 60,
   "metadata": {},
   "outputs": [
    {
     "data": {
      "text/plain": [
       "1"
      ]
     },
     "execution_count": 60,
     "metadata": {},
     "output_type": "execute_result"
    }
   ],
   "source": [
    "from subprocess import call\n",
    "call(['python', '-m', 'nbconvert', 'Investigate_a_Dataset.ipynb'])"
   ]
  }
 ],
 "metadata": {
  "kernelspec": {
   "display_name": "Python 3",
   "language": "python",
   "name": "python3"
  },
  "language_info": {
   "codemirror_mode": {
    "name": "ipython",
    "version": 3
   },
   "file_extension": ".py",
   "mimetype": "text/x-python",
   "name": "python",
   "nbconvert_exporter": "python",
   "pygments_lexer": "ipython3",
   "version": "3.10.5"
  },
  "vscode": {
   "interpreter": {
    "hash": "369f2c481f4da34e4445cda3fffd2e751bd1c4d706f27375911949ba6bb62e1c"
   }
  }
 },
 "nbformat": 4,
 "nbformat_minor": 2
}
