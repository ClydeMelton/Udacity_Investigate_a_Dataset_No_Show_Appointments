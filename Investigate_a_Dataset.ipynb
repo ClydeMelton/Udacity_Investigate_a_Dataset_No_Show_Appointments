{
 "cells": [
  {
   "cell_type": "markdown",
   "metadata": {},
   "source": [
    "# Project: Investigate a Dataset - No Show Appointments"
   ]
  },
  {
   "cell_type": "markdown",
   "metadata": {},
   "source": [
    "## Introduction\n",
    "\n",
    "### Dataset Description \n",
    "\n",
    "This dataset was collected from a hundred thousand medical appointments in Brazil.\n",
    "Various observations about each appointment were recorded.\n",
    "This dataset focuses on whtehr or not the patients showed up for their scheduled appointments.\n",
    "\n",
    "'PatientID' is the individual identifier for each patient.\n",
    "'AppointmentID' is the identification number for each individual appointment scheduled.\n",
    "'Gender' is the biolgical sex of the individual.\n",
    "'ScheduledDay' is the day the patient scheduled the appointment.\n",
    "'AppointmentDay' is the day the appointment is scheduled to take place.\n",
    "'Age' is the age of the patient.\n",
    "'Neighborhood' indicates the location of the hospital.\n",
    "'Scholarship' is status of enrollment in the Brasilian welfare program.\n",
    "'Hipertension' indicates whether or not the patient has a history of hypertension.\n",
    "'Diabetes' indicates whether or not the patient has a history of diabetes.\n",
    "'Alcoholism' indicates whether or not the patient has a history of alcoholism.\n",
    "'Handcap' indicates whether or not the patient is handicapped.\n",
    "'SMS_received' indicates if the patient was sent a text message reminder.\n",
    "'No-show' indicated whether or not the patient was present for the appointment.\n",
    "\n",
    "\n",
    "### Questions for Analysis\n",
    "\n",
    "1. Is there any correlation between age and no-show appointments? \n",
    "  \n",
    "  \n",
    "2. What impact does being enrolled in the Brasilian welfare program (scholarship) have on the likelihood of patients showing up, if any?\n",
    "\n"
   ]
  },
  {
   "attachments": {},
   "cell_type": "markdown",
   "metadata": {},
   "source": [
    "### Importing Libraries"
   ]
  },
  {
   "cell_type": "code",
   "execution_count": 1,
   "metadata": {},
   "outputs": [],
   "source": [
    "# Importing the necessary libraries\n",
    "\n",
    "import pandas as pd\n",
    "import numpy as np\n",
    "import matplotlib.pyplot as plt"
   ]
  },
  {
   "attachments": {},
   "cell_type": "markdown",
   "metadata": {},
   "source": [
    "### Data Gathering"
   ]
  },
  {
   "cell_type": "code",
   "execution_count": 2,
   "metadata": {},
   "outputs": [],
   "source": [
    "# Loading the dataset\n",
    "\n",
    "appt_df = pd.read_csv('Database_No_show_appointments/noshowappointments-kagglev2-may-2016.csv')"
   ]
  },
  {
   "attachments": {},
   "cell_type": "markdown",
   "metadata": {},
   "source": [
    "### Data Assessment"
   ]
  },
  {
   "cell_type": "code",
   "execution_count": 3,
   "metadata": {},
   "outputs": [
    {
     "data": {
      "text/html": [
       "<div>\n",
       "<style scoped>\n",
       "    .dataframe tbody tr th:only-of-type {\n",
       "        vertical-align: middle;\n",
       "    }\n",
       "\n",
       "    .dataframe tbody tr th {\n",
       "        vertical-align: top;\n",
       "    }\n",
       "\n",
       "    .dataframe thead th {\n",
       "        text-align: right;\n",
       "    }\n",
       "</style>\n",
       "<table border=\"1\" class=\"dataframe\">\n",
       "  <thead>\n",
       "    <tr style=\"text-align: right;\">\n",
       "      <th></th>\n",
       "      <th>PatientId</th>\n",
       "      <th>AppointmentID</th>\n",
       "      <th>Gender</th>\n",
       "      <th>ScheduledDay</th>\n",
       "      <th>AppointmentDay</th>\n",
       "      <th>Age</th>\n",
       "      <th>Neighbourhood</th>\n",
       "      <th>Scholarship</th>\n",
       "      <th>Hipertension</th>\n",
       "      <th>Diabetes</th>\n",
       "      <th>Alcoholism</th>\n",
       "      <th>Handcap</th>\n",
       "      <th>SMS_received</th>\n",
       "      <th>No-show</th>\n",
       "    </tr>\n",
       "  </thead>\n",
       "  <tbody>\n",
       "    <tr>\n",
       "      <th>0</th>\n",
       "      <td>2.987250e+13</td>\n",
       "      <td>5642903</td>\n",
       "      <td>F</td>\n",
       "      <td>2016-04-29T18:38:08Z</td>\n",
       "      <td>2016-04-29T00:00:00Z</td>\n",
       "      <td>62</td>\n",
       "      <td>JARDIM DA PENHA</td>\n",
       "      <td>0</td>\n",
       "      <td>1</td>\n",
       "      <td>0</td>\n",
       "      <td>0</td>\n",
       "      <td>0</td>\n",
       "      <td>0</td>\n",
       "      <td>No</td>\n",
       "    </tr>\n",
       "    <tr>\n",
       "      <th>1</th>\n",
       "      <td>5.589978e+14</td>\n",
       "      <td>5642503</td>\n",
       "      <td>M</td>\n",
       "      <td>2016-04-29T16:08:27Z</td>\n",
       "      <td>2016-04-29T00:00:00Z</td>\n",
       "      <td>56</td>\n",
       "      <td>JARDIM DA PENHA</td>\n",
       "      <td>0</td>\n",
       "      <td>0</td>\n",
       "      <td>0</td>\n",
       "      <td>0</td>\n",
       "      <td>0</td>\n",
       "      <td>0</td>\n",
       "      <td>No</td>\n",
       "    </tr>\n",
       "    <tr>\n",
       "      <th>2</th>\n",
       "      <td>4.262962e+12</td>\n",
       "      <td>5642549</td>\n",
       "      <td>F</td>\n",
       "      <td>2016-04-29T16:19:04Z</td>\n",
       "      <td>2016-04-29T00:00:00Z</td>\n",
       "      <td>62</td>\n",
       "      <td>MATA DA PRAIA</td>\n",
       "      <td>0</td>\n",
       "      <td>0</td>\n",
       "      <td>0</td>\n",
       "      <td>0</td>\n",
       "      <td>0</td>\n",
       "      <td>0</td>\n",
       "      <td>No</td>\n",
       "    </tr>\n",
       "    <tr>\n",
       "      <th>3</th>\n",
       "      <td>8.679512e+11</td>\n",
       "      <td>5642828</td>\n",
       "      <td>F</td>\n",
       "      <td>2016-04-29T17:29:31Z</td>\n",
       "      <td>2016-04-29T00:00:00Z</td>\n",
       "      <td>8</td>\n",
       "      <td>PONTAL DE CAMBURI</td>\n",
       "      <td>0</td>\n",
       "      <td>0</td>\n",
       "      <td>0</td>\n",
       "      <td>0</td>\n",
       "      <td>0</td>\n",
       "      <td>0</td>\n",
       "      <td>No</td>\n",
       "    </tr>\n",
       "    <tr>\n",
       "      <th>4</th>\n",
       "      <td>8.841186e+12</td>\n",
       "      <td>5642494</td>\n",
       "      <td>F</td>\n",
       "      <td>2016-04-29T16:07:23Z</td>\n",
       "      <td>2016-04-29T00:00:00Z</td>\n",
       "      <td>56</td>\n",
       "      <td>JARDIM DA PENHA</td>\n",
       "      <td>0</td>\n",
       "      <td>1</td>\n",
       "      <td>1</td>\n",
       "      <td>0</td>\n",
       "      <td>0</td>\n",
       "      <td>0</td>\n",
       "      <td>No</td>\n",
       "    </tr>\n",
       "  </tbody>\n",
       "</table>\n",
       "</div>"
      ],
      "text/plain": [
       "      PatientId  AppointmentID Gender          ScheduledDay  \\\n",
       "0  2.987250e+13        5642903      F  2016-04-29T18:38:08Z   \n",
       "1  5.589978e+14        5642503      M  2016-04-29T16:08:27Z   \n",
       "2  4.262962e+12        5642549      F  2016-04-29T16:19:04Z   \n",
       "3  8.679512e+11        5642828      F  2016-04-29T17:29:31Z   \n",
       "4  8.841186e+12        5642494      F  2016-04-29T16:07:23Z   \n",
       "\n",
       "         AppointmentDay  Age      Neighbourhood  Scholarship  Hipertension  \\\n",
       "0  2016-04-29T00:00:00Z   62    JARDIM DA PENHA            0             1   \n",
       "1  2016-04-29T00:00:00Z   56    JARDIM DA PENHA            0             0   \n",
       "2  2016-04-29T00:00:00Z   62      MATA DA PRAIA            0             0   \n",
       "3  2016-04-29T00:00:00Z    8  PONTAL DE CAMBURI            0             0   \n",
       "4  2016-04-29T00:00:00Z   56    JARDIM DA PENHA            0             1   \n",
       "\n",
       "   Diabetes  Alcoholism  Handcap  SMS_received No-show  \n",
       "0         0           0        0             0      No  \n",
       "1         0           0        0             0      No  \n",
       "2         0           0        0             0      No  \n",
       "3         0           0        0             0      No  \n",
       "4         1           0        0             0      No  "
      ]
     },
     "execution_count": 3,
     "metadata": {},
     "output_type": "execute_result"
    }
   ],
   "source": [
    "appt_df.head()"
   ]
  },
  {
   "cell_type": "code",
   "execution_count": 4,
   "metadata": {},
   "outputs": [
    {
     "data": {
      "text/html": [
       "<div>\n",
       "<style scoped>\n",
       "    .dataframe tbody tr th:only-of-type {\n",
       "        vertical-align: middle;\n",
       "    }\n",
       "\n",
       "    .dataframe tbody tr th {\n",
       "        vertical-align: top;\n",
       "    }\n",
       "\n",
       "    .dataframe thead th {\n",
       "        text-align: right;\n",
       "    }\n",
       "</style>\n",
       "<table border=\"1\" class=\"dataframe\">\n",
       "  <thead>\n",
       "    <tr style=\"text-align: right;\">\n",
       "      <th></th>\n",
       "      <th>PatientId</th>\n",
       "      <th>AppointmentID</th>\n",
       "      <th>Gender</th>\n",
       "      <th>ScheduledDay</th>\n",
       "      <th>AppointmentDay</th>\n",
       "      <th>Age</th>\n",
       "      <th>Neighbourhood</th>\n",
       "      <th>Scholarship</th>\n",
       "      <th>Hipertension</th>\n",
       "      <th>Diabetes</th>\n",
       "      <th>Alcoholism</th>\n",
       "      <th>Handcap</th>\n",
       "      <th>SMS_received</th>\n",
       "      <th>No-show</th>\n",
       "    </tr>\n",
       "  </thead>\n",
       "  <tbody>\n",
       "    <tr>\n",
       "      <th>110522</th>\n",
       "      <td>2.572134e+12</td>\n",
       "      <td>5651768</td>\n",
       "      <td>F</td>\n",
       "      <td>2016-05-03T09:15:35Z</td>\n",
       "      <td>2016-06-07T00:00:00Z</td>\n",
       "      <td>56</td>\n",
       "      <td>MARIA ORTIZ</td>\n",
       "      <td>0</td>\n",
       "      <td>0</td>\n",
       "      <td>0</td>\n",
       "      <td>0</td>\n",
       "      <td>0</td>\n",
       "      <td>1</td>\n",
       "      <td>No</td>\n",
       "    </tr>\n",
       "    <tr>\n",
       "      <th>110523</th>\n",
       "      <td>3.596266e+12</td>\n",
       "      <td>5650093</td>\n",
       "      <td>F</td>\n",
       "      <td>2016-05-03T07:27:33Z</td>\n",
       "      <td>2016-06-07T00:00:00Z</td>\n",
       "      <td>51</td>\n",
       "      <td>MARIA ORTIZ</td>\n",
       "      <td>0</td>\n",
       "      <td>0</td>\n",
       "      <td>0</td>\n",
       "      <td>0</td>\n",
       "      <td>0</td>\n",
       "      <td>1</td>\n",
       "      <td>No</td>\n",
       "    </tr>\n",
       "    <tr>\n",
       "      <th>110524</th>\n",
       "      <td>1.557663e+13</td>\n",
       "      <td>5630692</td>\n",
       "      <td>F</td>\n",
       "      <td>2016-04-27T16:03:52Z</td>\n",
       "      <td>2016-06-07T00:00:00Z</td>\n",
       "      <td>21</td>\n",
       "      <td>MARIA ORTIZ</td>\n",
       "      <td>0</td>\n",
       "      <td>0</td>\n",
       "      <td>0</td>\n",
       "      <td>0</td>\n",
       "      <td>0</td>\n",
       "      <td>1</td>\n",
       "      <td>No</td>\n",
       "    </tr>\n",
       "    <tr>\n",
       "      <th>110525</th>\n",
       "      <td>9.213493e+13</td>\n",
       "      <td>5630323</td>\n",
       "      <td>F</td>\n",
       "      <td>2016-04-27T15:09:23Z</td>\n",
       "      <td>2016-06-07T00:00:00Z</td>\n",
       "      <td>38</td>\n",
       "      <td>MARIA ORTIZ</td>\n",
       "      <td>0</td>\n",
       "      <td>0</td>\n",
       "      <td>0</td>\n",
       "      <td>0</td>\n",
       "      <td>0</td>\n",
       "      <td>1</td>\n",
       "      <td>No</td>\n",
       "    </tr>\n",
       "    <tr>\n",
       "      <th>110526</th>\n",
       "      <td>3.775115e+14</td>\n",
       "      <td>5629448</td>\n",
       "      <td>F</td>\n",
       "      <td>2016-04-27T13:30:56Z</td>\n",
       "      <td>2016-06-07T00:00:00Z</td>\n",
       "      <td>54</td>\n",
       "      <td>MARIA ORTIZ</td>\n",
       "      <td>0</td>\n",
       "      <td>0</td>\n",
       "      <td>0</td>\n",
       "      <td>0</td>\n",
       "      <td>0</td>\n",
       "      <td>1</td>\n",
       "      <td>No</td>\n",
       "    </tr>\n",
       "  </tbody>\n",
       "</table>\n",
       "</div>"
      ],
      "text/plain": [
       "           PatientId  AppointmentID Gender          ScheduledDay  \\\n",
       "110522  2.572134e+12        5651768      F  2016-05-03T09:15:35Z   \n",
       "110523  3.596266e+12        5650093      F  2016-05-03T07:27:33Z   \n",
       "110524  1.557663e+13        5630692      F  2016-04-27T16:03:52Z   \n",
       "110525  9.213493e+13        5630323      F  2016-04-27T15:09:23Z   \n",
       "110526  3.775115e+14        5629448      F  2016-04-27T13:30:56Z   \n",
       "\n",
       "              AppointmentDay  Age Neighbourhood  Scholarship  Hipertension  \\\n",
       "110522  2016-06-07T00:00:00Z   56   MARIA ORTIZ            0             0   \n",
       "110523  2016-06-07T00:00:00Z   51   MARIA ORTIZ            0             0   \n",
       "110524  2016-06-07T00:00:00Z   21   MARIA ORTIZ            0             0   \n",
       "110525  2016-06-07T00:00:00Z   38   MARIA ORTIZ            0             0   \n",
       "110526  2016-06-07T00:00:00Z   54   MARIA ORTIZ            0             0   \n",
       "\n",
       "        Diabetes  Alcoholism  Handcap  SMS_received No-show  \n",
       "110522         0           0        0             1      No  \n",
       "110523         0           0        0             1      No  \n",
       "110524         0           0        0             1      No  \n",
       "110525         0           0        0             1      No  \n",
       "110526         0           0        0             1      No  "
      ]
     },
     "execution_count": 4,
     "metadata": {},
     "output_type": "execute_result"
    }
   ],
   "source": [
    "appt_df.tail()"
   ]
  },
  {
   "cell_type": "code",
   "execution_count": 5,
   "metadata": {},
   "outputs": [
    {
     "data": {
      "text/html": [
       "<div>\n",
       "<style scoped>\n",
       "    .dataframe tbody tr th:only-of-type {\n",
       "        vertical-align: middle;\n",
       "    }\n",
       "\n",
       "    .dataframe tbody tr th {\n",
       "        vertical-align: top;\n",
       "    }\n",
       "\n",
       "    .dataframe thead th {\n",
       "        text-align: right;\n",
       "    }\n",
       "</style>\n",
       "<table border=\"1\" class=\"dataframe\">\n",
       "  <thead>\n",
       "    <tr style=\"text-align: right;\">\n",
       "      <th></th>\n",
       "      <th>PatientId</th>\n",
       "      <th>AppointmentID</th>\n",
       "      <th>Gender</th>\n",
       "      <th>ScheduledDay</th>\n",
       "      <th>AppointmentDay</th>\n",
       "      <th>Age</th>\n",
       "      <th>Neighbourhood</th>\n",
       "      <th>Scholarship</th>\n",
       "      <th>Hipertension</th>\n",
       "      <th>Diabetes</th>\n",
       "      <th>Alcoholism</th>\n",
       "      <th>Handcap</th>\n",
       "      <th>SMS_received</th>\n",
       "      <th>No-show</th>\n",
       "    </tr>\n",
       "  </thead>\n",
       "  <tbody>\n",
       "    <tr>\n",
       "      <th>52440</th>\n",
       "      <td>3.135918e+13</td>\n",
       "      <td>5669055</td>\n",
       "      <td>F</td>\n",
       "      <td>2016-05-06T10:16:03Z</td>\n",
       "      <td>2016-05-10T00:00:00Z</td>\n",
       "      <td>48</td>\n",
       "      <td>ITARARÉ</td>\n",
       "      <td>0</td>\n",
       "      <td>0</td>\n",
       "      <td>0</td>\n",
       "      <td>0</td>\n",
       "      <td>0</td>\n",
       "      <td>1</td>\n",
       "      <td>Yes</td>\n",
       "    </tr>\n",
       "    <tr>\n",
       "      <th>60985</th>\n",
       "      <td>9.638866e+13</td>\n",
       "      <td>5650176</td>\n",
       "      <td>F</td>\n",
       "      <td>2016-05-03T07:30:52Z</td>\n",
       "      <td>2016-05-05T00:00:00Z</td>\n",
       "      <td>25</td>\n",
       "      <td>JESUS DE NAZARETH</td>\n",
       "      <td>0</td>\n",
       "      <td>0</td>\n",
       "      <td>0</td>\n",
       "      <td>0</td>\n",
       "      <td>0</td>\n",
       "      <td>0</td>\n",
       "      <td>No</td>\n",
       "    </tr>\n",
       "    <tr>\n",
       "      <th>57926</th>\n",
       "      <td>9.674512e+11</td>\n",
       "      <td>5691583</td>\n",
       "      <td>F</td>\n",
       "      <td>2016-05-12T13:17:10Z</td>\n",
       "      <td>2016-05-12T00:00:00Z</td>\n",
       "      <td>45</td>\n",
       "      <td>NOVA PALESTINA</td>\n",
       "      <td>0</td>\n",
       "      <td>0</td>\n",
       "      <td>0</td>\n",
       "      <td>0</td>\n",
       "      <td>0</td>\n",
       "      <td>0</td>\n",
       "      <td>No</td>\n",
       "    </tr>\n",
       "    <tr>\n",
       "      <th>50493</th>\n",
       "      <td>8.152148e+14</td>\n",
       "      <td>5673424</td>\n",
       "      <td>F</td>\n",
       "      <td>2016-05-09T09:20:39Z</td>\n",
       "      <td>2016-05-18T00:00:00Z</td>\n",
       "      <td>55</td>\n",
       "      <td>CENTRO</td>\n",
       "      <td>0</td>\n",
       "      <td>0</td>\n",
       "      <td>0</td>\n",
       "      <td>0</td>\n",
       "      <td>0</td>\n",
       "      <td>0</td>\n",
       "      <td>No</td>\n",
       "    </tr>\n",
       "    <tr>\n",
       "      <th>20830</th>\n",
       "      <td>6.535798e+11</td>\n",
       "      <td>5739186</td>\n",
       "      <td>F</td>\n",
       "      <td>2016-05-25T12:56:52Z</td>\n",
       "      <td>2016-05-31T00:00:00Z</td>\n",
       "      <td>68</td>\n",
       "      <td>ROMÃO</td>\n",
       "      <td>0</td>\n",
       "      <td>1</td>\n",
       "      <td>0</td>\n",
       "      <td>0</td>\n",
       "      <td>0</td>\n",
       "      <td>1</td>\n",
       "      <td>No</td>\n",
       "    </tr>\n",
       "    <tr>\n",
       "      <th>105949</th>\n",
       "      <td>1.281132e+12</td>\n",
       "      <td>5780019</td>\n",
       "      <td>M</td>\n",
       "      <td>2016-06-07T07:29:25Z</td>\n",
       "      <td>2016-06-07T00:00:00Z</td>\n",
       "      <td>4</td>\n",
       "      <td>SANTO ANDRÉ</td>\n",
       "      <td>0</td>\n",
       "      <td>0</td>\n",
       "      <td>0</td>\n",
       "      <td>0</td>\n",
       "      <td>0</td>\n",
       "      <td>0</td>\n",
       "      <td>No</td>\n",
       "    </tr>\n",
       "    <tr>\n",
       "      <th>56187</th>\n",
       "      <td>2.488331e+13</td>\n",
       "      <td>5673348</td>\n",
       "      <td>M</td>\n",
       "      <td>2016-05-09T09:13:18Z</td>\n",
       "      <td>2016-05-11T00:00:00Z</td>\n",
       "      <td>88</td>\n",
       "      <td>REPÚBLICA</td>\n",
       "      <td>0</td>\n",
       "      <td>1</td>\n",
       "      <td>0</td>\n",
       "      <td>0</td>\n",
       "      <td>0</td>\n",
       "      <td>0</td>\n",
       "      <td>No</td>\n",
       "    </tr>\n",
       "    <tr>\n",
       "      <th>19597</th>\n",
       "      <td>2.616696e+12</td>\n",
       "      <td>5688079</td>\n",
       "      <td>F</td>\n",
       "      <td>2016-05-12T06:35:46Z</td>\n",
       "      <td>2016-05-16T00:00:00Z</td>\n",
       "      <td>53</td>\n",
       "      <td>ILHA DO PRÍNCIPE</td>\n",
       "      <td>0</td>\n",
       "      <td>0</td>\n",
       "      <td>0</td>\n",
       "      <td>0</td>\n",
       "      <td>0</td>\n",
       "      <td>0</td>\n",
       "      <td>Yes</td>\n",
       "    </tr>\n",
       "    <tr>\n",
       "      <th>71028</th>\n",
       "      <td>8.137292e+13</td>\n",
       "      <td>5431703</td>\n",
       "      <td>M</td>\n",
       "      <td>2016-03-04T11:20:39Z</td>\n",
       "      <td>2016-05-06T00:00:00Z</td>\n",
       "      <td>42</td>\n",
       "      <td>FONTE GRANDE</td>\n",
       "      <td>0</td>\n",
       "      <td>1</td>\n",
       "      <td>0</td>\n",
       "      <td>0</td>\n",
       "      <td>0</td>\n",
       "      <td>1</td>\n",
       "      <td>No</td>\n",
       "    </tr>\n",
       "    <tr>\n",
       "      <th>8266</th>\n",
       "      <td>5.382568e+14</td>\n",
       "      <td>5655214</td>\n",
       "      <td>F</td>\n",
       "      <td>2016-05-03T16:15:49Z</td>\n",
       "      <td>2016-05-10T00:00:00Z</td>\n",
       "      <td>49</td>\n",
       "      <td>PRAIA DO CANTO</td>\n",
       "      <td>0</td>\n",
       "      <td>0</td>\n",
       "      <td>0</td>\n",
       "      <td>0</td>\n",
       "      <td>0</td>\n",
       "      <td>0</td>\n",
       "      <td>No</td>\n",
       "    </tr>\n",
       "  </tbody>\n",
       "</table>\n",
       "</div>"
      ],
      "text/plain": [
       "           PatientId  AppointmentID Gender          ScheduledDay  \\\n",
       "52440   3.135918e+13        5669055      F  2016-05-06T10:16:03Z   \n",
       "60985   9.638866e+13        5650176      F  2016-05-03T07:30:52Z   \n",
       "57926   9.674512e+11        5691583      F  2016-05-12T13:17:10Z   \n",
       "50493   8.152148e+14        5673424      F  2016-05-09T09:20:39Z   \n",
       "20830   6.535798e+11        5739186      F  2016-05-25T12:56:52Z   \n",
       "105949  1.281132e+12        5780019      M  2016-06-07T07:29:25Z   \n",
       "56187   2.488331e+13        5673348      M  2016-05-09T09:13:18Z   \n",
       "19597   2.616696e+12        5688079      F  2016-05-12T06:35:46Z   \n",
       "71028   8.137292e+13        5431703      M  2016-03-04T11:20:39Z   \n",
       "8266    5.382568e+14        5655214      F  2016-05-03T16:15:49Z   \n",
       "\n",
       "              AppointmentDay  Age      Neighbourhood  Scholarship  \\\n",
       "52440   2016-05-10T00:00:00Z   48            ITARARÉ            0   \n",
       "60985   2016-05-05T00:00:00Z   25  JESUS DE NAZARETH            0   \n",
       "57926   2016-05-12T00:00:00Z   45     NOVA PALESTINA            0   \n",
       "50493   2016-05-18T00:00:00Z   55             CENTRO            0   \n",
       "20830   2016-05-31T00:00:00Z   68              ROMÃO            0   \n",
       "105949  2016-06-07T00:00:00Z    4        SANTO ANDRÉ            0   \n",
       "56187   2016-05-11T00:00:00Z   88          REPÚBLICA            0   \n",
       "19597   2016-05-16T00:00:00Z   53   ILHA DO PRÍNCIPE            0   \n",
       "71028   2016-05-06T00:00:00Z   42       FONTE GRANDE            0   \n",
       "8266    2016-05-10T00:00:00Z   49     PRAIA DO CANTO            0   \n",
       "\n",
       "        Hipertension  Diabetes  Alcoholism  Handcap  SMS_received No-show  \n",
       "52440              0         0           0        0             1     Yes  \n",
       "60985              0         0           0        0             0      No  \n",
       "57926              0         0           0        0             0      No  \n",
       "50493              0         0           0        0             0      No  \n",
       "20830              1         0           0        0             1      No  \n",
       "105949             0         0           0        0             0      No  \n",
       "56187              1         0           0        0             0      No  \n",
       "19597              0         0           0        0             0     Yes  \n",
       "71028              1         0           0        0             1      No  \n",
       "8266               0         0           0        0             0      No  "
      ]
     },
     "execution_count": 5,
     "metadata": {},
     "output_type": "execute_result"
    }
   ],
   "source": [
    "appt_df.sample(10)"
   ]
  },
  {
   "cell_type": "code",
   "execution_count": 6,
   "metadata": {},
   "outputs": [
    {
     "name": "stdout",
     "output_type": "stream",
     "text": [
      "<class 'pandas.core.frame.DataFrame'>\n",
      "RangeIndex: 110527 entries, 0 to 110526\n",
      "Data columns (total 14 columns):\n",
      " #   Column          Non-Null Count   Dtype  \n",
      "---  ------          --------------   -----  \n",
      " 0   PatientId       110527 non-null  float64\n",
      " 1   AppointmentID   110527 non-null  int64  \n",
      " 2   Gender          110527 non-null  object \n",
      " 3   ScheduledDay    110527 non-null  object \n",
      " 4   AppointmentDay  110527 non-null  object \n",
      " 5   Age             110527 non-null  int64  \n",
      " 6   Neighbourhood   110527 non-null  object \n",
      " 7   Scholarship     110527 non-null  int64  \n",
      " 8   Hipertension    110527 non-null  int64  \n",
      " 9   Diabetes        110527 non-null  int64  \n",
      " 10  Alcoholism      110527 non-null  int64  \n",
      " 11  Handcap         110527 non-null  int64  \n",
      " 12  SMS_received    110527 non-null  int64  \n",
      " 13  No-show         110527 non-null  object \n",
      "dtypes: float64(1), int64(8), object(5)\n",
      "memory usage: 11.8+ MB\n"
     ]
    }
   ],
   "source": [
    "appt_df.info()"
   ]
  },
  {
   "cell_type": "code",
   "execution_count": 7,
   "metadata": {},
   "outputs": [
    {
     "data": {
      "text/html": [
       "<div>\n",
       "<style scoped>\n",
       "    .dataframe tbody tr th:only-of-type {\n",
       "        vertical-align: middle;\n",
       "    }\n",
       "\n",
       "    .dataframe tbody tr th {\n",
       "        vertical-align: top;\n",
       "    }\n",
       "\n",
       "    .dataframe thead th {\n",
       "        text-align: right;\n",
       "    }\n",
       "</style>\n",
       "<table border=\"1\" class=\"dataframe\">\n",
       "  <thead>\n",
       "    <tr style=\"text-align: right;\">\n",
       "      <th></th>\n",
       "      <th>PatientId</th>\n",
       "      <th>AppointmentID</th>\n",
       "      <th>Age</th>\n",
       "      <th>Scholarship</th>\n",
       "      <th>Hipertension</th>\n",
       "      <th>Diabetes</th>\n",
       "      <th>Alcoholism</th>\n",
       "      <th>Handcap</th>\n",
       "      <th>SMS_received</th>\n",
       "    </tr>\n",
       "  </thead>\n",
       "  <tbody>\n",
       "    <tr>\n",
       "      <th>count</th>\n",
       "      <td>1.105270e+05</td>\n",
       "      <td>1.105270e+05</td>\n",
       "      <td>110527.000000</td>\n",
       "      <td>110527.000000</td>\n",
       "      <td>110527.000000</td>\n",
       "      <td>110527.000000</td>\n",
       "      <td>110527.000000</td>\n",
       "      <td>110527.000000</td>\n",
       "      <td>110527.000000</td>\n",
       "    </tr>\n",
       "    <tr>\n",
       "      <th>mean</th>\n",
       "      <td>1.474963e+14</td>\n",
       "      <td>5.675305e+06</td>\n",
       "      <td>37.088874</td>\n",
       "      <td>0.098266</td>\n",
       "      <td>0.197246</td>\n",
       "      <td>0.071865</td>\n",
       "      <td>0.030400</td>\n",
       "      <td>0.022248</td>\n",
       "      <td>0.321026</td>\n",
       "    </tr>\n",
       "    <tr>\n",
       "      <th>std</th>\n",
       "      <td>2.560949e+14</td>\n",
       "      <td>7.129575e+04</td>\n",
       "      <td>23.110205</td>\n",
       "      <td>0.297675</td>\n",
       "      <td>0.397921</td>\n",
       "      <td>0.258265</td>\n",
       "      <td>0.171686</td>\n",
       "      <td>0.161543</td>\n",
       "      <td>0.466873</td>\n",
       "    </tr>\n",
       "    <tr>\n",
       "      <th>min</th>\n",
       "      <td>3.921784e+04</td>\n",
       "      <td>5.030230e+06</td>\n",
       "      <td>-1.000000</td>\n",
       "      <td>0.000000</td>\n",
       "      <td>0.000000</td>\n",
       "      <td>0.000000</td>\n",
       "      <td>0.000000</td>\n",
       "      <td>0.000000</td>\n",
       "      <td>0.000000</td>\n",
       "    </tr>\n",
       "    <tr>\n",
       "      <th>25%</th>\n",
       "      <td>4.172614e+12</td>\n",
       "      <td>5.640286e+06</td>\n",
       "      <td>18.000000</td>\n",
       "      <td>0.000000</td>\n",
       "      <td>0.000000</td>\n",
       "      <td>0.000000</td>\n",
       "      <td>0.000000</td>\n",
       "      <td>0.000000</td>\n",
       "      <td>0.000000</td>\n",
       "    </tr>\n",
       "    <tr>\n",
       "      <th>50%</th>\n",
       "      <td>3.173184e+13</td>\n",
       "      <td>5.680573e+06</td>\n",
       "      <td>37.000000</td>\n",
       "      <td>0.000000</td>\n",
       "      <td>0.000000</td>\n",
       "      <td>0.000000</td>\n",
       "      <td>0.000000</td>\n",
       "      <td>0.000000</td>\n",
       "      <td>0.000000</td>\n",
       "    </tr>\n",
       "    <tr>\n",
       "      <th>75%</th>\n",
       "      <td>9.439172e+13</td>\n",
       "      <td>5.725524e+06</td>\n",
       "      <td>55.000000</td>\n",
       "      <td>0.000000</td>\n",
       "      <td>0.000000</td>\n",
       "      <td>0.000000</td>\n",
       "      <td>0.000000</td>\n",
       "      <td>0.000000</td>\n",
       "      <td>1.000000</td>\n",
       "    </tr>\n",
       "    <tr>\n",
       "      <th>max</th>\n",
       "      <td>9.999816e+14</td>\n",
       "      <td>5.790484e+06</td>\n",
       "      <td>115.000000</td>\n",
       "      <td>1.000000</td>\n",
       "      <td>1.000000</td>\n",
       "      <td>1.000000</td>\n",
       "      <td>1.000000</td>\n",
       "      <td>4.000000</td>\n",
       "      <td>1.000000</td>\n",
       "    </tr>\n",
       "  </tbody>\n",
       "</table>\n",
       "</div>"
      ],
      "text/plain": [
       "          PatientId  AppointmentID            Age    Scholarship  \\\n",
       "count  1.105270e+05   1.105270e+05  110527.000000  110527.000000   \n",
       "mean   1.474963e+14   5.675305e+06      37.088874       0.098266   \n",
       "std    2.560949e+14   7.129575e+04      23.110205       0.297675   \n",
       "min    3.921784e+04   5.030230e+06      -1.000000       0.000000   \n",
       "25%    4.172614e+12   5.640286e+06      18.000000       0.000000   \n",
       "50%    3.173184e+13   5.680573e+06      37.000000       0.000000   \n",
       "75%    9.439172e+13   5.725524e+06      55.000000       0.000000   \n",
       "max    9.999816e+14   5.790484e+06     115.000000       1.000000   \n",
       "\n",
       "        Hipertension       Diabetes     Alcoholism        Handcap  \\\n",
       "count  110527.000000  110527.000000  110527.000000  110527.000000   \n",
       "mean        0.197246       0.071865       0.030400       0.022248   \n",
       "std         0.397921       0.258265       0.171686       0.161543   \n",
       "min         0.000000       0.000000       0.000000       0.000000   \n",
       "25%         0.000000       0.000000       0.000000       0.000000   \n",
       "50%         0.000000       0.000000       0.000000       0.000000   \n",
       "75%         0.000000       0.000000       0.000000       0.000000   \n",
       "max         1.000000       1.000000       1.000000       4.000000   \n",
       "\n",
       "        SMS_received  \n",
       "count  110527.000000  \n",
       "mean        0.321026  \n",
       "std         0.466873  \n",
       "min         0.000000  \n",
       "25%         0.000000  \n",
       "50%         0.000000  \n",
       "75%         1.000000  \n",
       "max         1.000000  "
      ]
     },
     "execution_count": 7,
     "metadata": {},
     "output_type": "execute_result"
    }
   ],
   "source": [
    "appt_df.describe()"
   ]
  },
  {
   "cell_type": "markdown",
   "metadata": {},
   "source": [
    "The AppointmentID values are ints and should be strings. ScheduledDay and AppointmentDay should both be in datetime format instead of strings. Column names have typos, inconsistant capitilization, and inconsistant formatting. All yes or no columns, such as Alcoholism, SMS_recieved, and No-show, should be bolleans, instead of ints and strings."
   ]
  },
  {
   "attachments": {},
   "cell_type": "markdown",
   "metadata": {},
   "source": [
    "### Data Cleaning"
   ]
  },
  {
   "cell_type": "code",
   "execution_count": 8,
   "metadata": {},
   "outputs": [],
   "source": [
    "# Changing the column names to correct misspellings and to make them more concide and readable.\n",
    "\n",
    "appt_df.columns = ['patient_id', 'appointment_id', 'gender', 'scheduled_day', 'appointment_day', 'age','neighbourhood', \n",
    "                   'bolsa_familia', 'hypertension', 'diabetes', 'alcoholism', 'handicapped', 'received_sms', 'arrival_status']"
   ]
  },
  {
   "cell_type": "code",
   "execution_count": 9,
   "metadata": {
    "scrolled": true
   },
   "outputs": [],
   "source": [
    "# Changing the data type of the appointment_id column to string\n",
    "\n",
    "appt_df['appointment_id'] = appt_df['appointment_id'].astype(str)"
   ]
  },
  {
   "cell_type": "code",
   "execution_count": 10,
   "metadata": {},
   "outputs": [],
   "source": [
    "# Changing the data type of the scheduled_day column to datetime\n",
    "\n",
    "appt_df['scheduled_day'] = pd.to_datetime(appt_df.scheduled_day)"
   ]
  },
  {
   "cell_type": "code",
   "execution_count": 11,
   "metadata": {},
   "outputs": [],
   "source": [
    "# Changing the data type of the appointment_day column to datetime\n",
    "\n",
    "appt_df['appointment_day'] = pd.to_datetime(appt_df.appointment_day)"
   ]
  },
  {
   "cell_type": "code",
   "execution_count": 12,
   "metadata": {},
   "outputs": [],
   "source": [
    "# Changing the data type of the bolsa_familia column to string and changing the values to 'Enrolled' and 'Not Enrolled'\n",
    "\n",
    "appt_df['bolsa_familia'] = appt_df['bolsa_familia'].astype(str)\n",
    "appt_df['bolsa_familia'] = appt_df['bolsa_familia'].apply(lambda x: 'Enrolled' if x == '1' else 'Not Enrolled')"
   ]
  },
  {
   "cell_type": "code",
   "execution_count": 13,
   "metadata": {},
   "outputs": [],
   "source": [
    "# Changing the data type of the hypertension column to string and changing the values to 'Yes' and 'No'\n",
    "\n",
    "appt_df['hypertension'] = appt_df['hypertension'].astype(str)\n",
    "appt_df['hypertension'] = appt_df['hypertension'].apply(lambda x: 'Yes' if x == '1' else 'No')"
   ]
  },
  {
   "cell_type": "code",
   "execution_count": 14,
   "metadata": {},
   "outputs": [],
   "source": [
    "# Changing the data type of the diabetes column to string and changing the values to 'Yes' and 'No'\n",
    "\n",
    "appt_df['diabetes'] = appt_df['diabetes'].astype(str)\n",
    "appt_df['diabetes'] = appt_df['diabetes'].apply(lambda x: 'Yes' if x == '1' else 'No')"
   ]
  },
  {
   "cell_type": "code",
   "execution_count": 15,
   "metadata": {},
   "outputs": [],
   "source": [
    "# Changing the data type of the alcoholism column to string and changing the values to 'Yes' and 'No'\n",
    "\n",
    "appt_df['alcoholism'] = appt_df['alcoholism'].astype(str)\n",
    "appt_df['alcoholism'] = appt_df['alcoholism'].apply(lambda x: 'Yes' if x == '1' else 'No')"
   ]
  },
  {
   "cell_type": "code",
   "execution_count": 16,
   "metadata": {},
   "outputs": [],
   "source": [
    "# Changing the data type of the handicapped column to string and changing the values to 'Yes' and 'No'\n",
    "\n",
    "appt_df['handicapped'] = appt_df['handicapped'].astype(str)\n",
    "appt_df['handicapped'] = appt_df['handicapped'].apply(lambda x: 'Yes' if x == '1' else 'No')"
   ]
  },
  {
   "cell_type": "code",
   "execution_count": 17,
   "metadata": {},
   "outputs": [],
   "source": [
    "# Changing the data type of the received_sms column to string and changing the values to 'Yes' and 'No'\n",
    "\n",
    "appt_df['received_sms'] = appt_df['received_sms'].astype(str)\n",
    "appt_df['received_sms'] = appt_df['received_sms'].apply(lambda x: 'Yes' if x == '1' else 'No')"
   ]
  },
  {
   "cell_type": "code",
   "execution_count": 18,
   "metadata": {},
   "outputs": [],
   "source": [
    "# Changing the data type of the arrival_status column to string and changing the values to 'Arrived' and 'Did Not Arrive'\n",
    "\n",
    "appt_df['arrival_status'] = appt_df['arrival_status'].astype(str)\n",
    "appt_df['arrival_status'] = appt_df['arrival_status'].apply(lambda x: 'Did Not Arrive' if x == 'Yes' else 'Arrived')"
   ]
  },
  {
   "cell_type": "code",
   "execution_count": 19,
   "metadata": {
    "scrolled": false
   },
   "outputs": [
    {
     "data": {
      "text/html": [
       "<div>\n",
       "<style scoped>\n",
       "    .dataframe tbody tr th:only-of-type {\n",
       "        vertical-align: middle;\n",
       "    }\n",
       "\n",
       "    .dataframe tbody tr th {\n",
       "        vertical-align: top;\n",
       "    }\n",
       "\n",
       "    .dataframe thead th {\n",
       "        text-align: right;\n",
       "    }\n",
       "</style>\n",
       "<table border=\"1\" class=\"dataframe\">\n",
       "  <thead>\n",
       "    <tr style=\"text-align: right;\">\n",
       "      <th></th>\n",
       "      <th>patient_id</th>\n",
       "      <th>appointment_id</th>\n",
       "      <th>gender</th>\n",
       "      <th>scheduled_day</th>\n",
       "      <th>appointment_day</th>\n",
       "      <th>age</th>\n",
       "      <th>neighbourhood</th>\n",
       "      <th>bolsa_familia</th>\n",
       "      <th>hypertension</th>\n",
       "      <th>diabetes</th>\n",
       "      <th>alcoholism</th>\n",
       "      <th>handicapped</th>\n",
       "      <th>received_sms</th>\n",
       "      <th>arrival_status</th>\n",
       "    </tr>\n",
       "  </thead>\n",
       "  <tbody>\n",
       "    <tr>\n",
       "      <th>8623</th>\n",
       "      <td>9.963340e+13</td>\n",
       "      <td>5718928</td>\n",
       "      <td>M</td>\n",
       "      <td>2016-05-19 10:20:09+00:00</td>\n",
       "      <td>2016-05-31 00:00:00+00:00</td>\n",
       "      <td>35</td>\n",
       "      <td>DA PENHA</td>\n",
       "      <td>Not Enrolled</td>\n",
       "      <td>No</td>\n",
       "      <td>No</td>\n",
       "      <td>No</td>\n",
       "      <td>No</td>\n",
       "      <td>No</td>\n",
       "      <td>Did Not Arrive</td>\n",
       "    </tr>\n",
       "    <tr>\n",
       "      <th>55309</th>\n",
       "      <td>4.978975e+14</td>\n",
       "      <td>5710373</td>\n",
       "      <td>F</td>\n",
       "      <td>2016-05-17 15:55:18+00:00</td>\n",
       "      <td>2016-05-19 00:00:00+00:00</td>\n",
       "      <td>71</td>\n",
       "      <td>ITARARÉ</td>\n",
       "      <td>Not Enrolled</td>\n",
       "      <td>Yes</td>\n",
       "      <td>No</td>\n",
       "      <td>No</td>\n",
       "      <td>No</td>\n",
       "      <td>No</td>\n",
       "      <td>Arrived</td>\n",
       "    </tr>\n",
       "    <tr>\n",
       "      <th>50405</th>\n",
       "      <td>5.392281e+12</td>\n",
       "      <td>5674115</td>\n",
       "      <td>F</td>\n",
       "      <td>2016-05-09 10:26:25+00:00</td>\n",
       "      <td>2016-05-09 00:00:00+00:00</td>\n",
       "      <td>31</td>\n",
       "      <td>MÁRIO CYPRESTE</td>\n",
       "      <td>Not Enrolled</td>\n",
       "      <td>No</td>\n",
       "      <td>No</td>\n",
       "      <td>No</td>\n",
       "      <td>No</td>\n",
       "      <td>No</td>\n",
       "      <td>Arrived</td>\n",
       "    </tr>\n",
       "    <tr>\n",
       "      <th>67286</th>\n",
       "      <td>1.333989e+12</td>\n",
       "      <td>5666748</td>\n",
       "      <td>M</td>\n",
       "      <td>2016-05-06 07:01:43+00:00</td>\n",
       "      <td>2016-05-06 00:00:00+00:00</td>\n",
       "      <td>44</td>\n",
       "      <td>JARDIM CAMBURI</td>\n",
       "      <td>Not Enrolled</td>\n",
       "      <td>No</td>\n",
       "      <td>No</td>\n",
       "      <td>No</td>\n",
       "      <td>No</td>\n",
       "      <td>No</td>\n",
       "      <td>Arrived</td>\n",
       "    </tr>\n",
       "    <tr>\n",
       "      <th>72043</th>\n",
       "      <td>1.345274e+13</td>\n",
       "      <td>5691305</td>\n",
       "      <td>M</td>\n",
       "      <td>2016-05-12 12:01:13+00:00</td>\n",
       "      <td>2016-05-18 00:00:00+00:00</td>\n",
       "      <td>54</td>\n",
       "      <td>MARIA ORTIZ</td>\n",
       "      <td>Not Enrolled</td>\n",
       "      <td>No</td>\n",
       "      <td>No</td>\n",
       "      <td>No</td>\n",
       "      <td>No</td>\n",
       "      <td>No</td>\n",
       "      <td>Arrived</td>\n",
       "    </tr>\n",
       "  </tbody>\n",
       "</table>\n",
       "</div>"
      ],
      "text/plain": [
       "         patient_id appointment_id gender             scheduled_day  \\\n",
       "8623   9.963340e+13        5718928      M 2016-05-19 10:20:09+00:00   \n",
       "55309  4.978975e+14        5710373      F 2016-05-17 15:55:18+00:00   \n",
       "50405  5.392281e+12        5674115      F 2016-05-09 10:26:25+00:00   \n",
       "67286  1.333989e+12        5666748      M 2016-05-06 07:01:43+00:00   \n",
       "72043  1.345274e+13        5691305      M 2016-05-12 12:01:13+00:00   \n",
       "\n",
       "                appointment_day  age   neighbourhood bolsa_familia  \\\n",
       "8623  2016-05-31 00:00:00+00:00   35        DA PENHA  Not Enrolled   \n",
       "55309 2016-05-19 00:00:00+00:00   71         ITARARÉ  Not Enrolled   \n",
       "50405 2016-05-09 00:00:00+00:00   31  MÁRIO CYPRESTE  Not Enrolled   \n",
       "67286 2016-05-06 00:00:00+00:00   44  JARDIM CAMBURI  Not Enrolled   \n",
       "72043 2016-05-18 00:00:00+00:00   54     MARIA ORTIZ  Not Enrolled   \n",
       "\n",
       "      hypertension diabetes alcoholism handicapped received_sms  \\\n",
       "8623            No       No         No          No           No   \n",
       "55309          Yes       No         No          No           No   \n",
       "50405           No       No         No          No           No   \n",
       "67286           No       No         No          No           No   \n",
       "72043           No       No         No          No           No   \n",
       "\n",
       "       arrival_status  \n",
       "8623   Did Not Arrive  \n",
       "55309         Arrived  \n",
       "50405         Arrived  \n",
       "67286         Arrived  \n",
       "72043         Arrived  "
      ]
     },
     "execution_count": 19,
     "metadata": {},
     "output_type": "execute_result"
    }
   ],
   "source": [
    "appt_df.sample(5)"
   ]
  },
  {
   "attachments": {},
   "cell_type": "markdown",
   "metadata": {},
   "source": [
    "## Exploratory Data Analysis"
   ]
  },
  {
   "attachments": {},
   "cell_type": "markdown",
   "metadata": {},
   "source": [
    "### Examining the 'age' values"
   ]
  },
  {
   "cell_type": "code",
   "execution_count": 20,
   "metadata": {},
   "outputs": [
    {
     "data": {
      "text/plain": [
       " 0      3539\n",
       " 1      2273\n",
       " 52     1746\n",
       " 49     1652\n",
       " 53     1651\n",
       "        ... \n",
       " 115       5\n",
       " 100       4\n",
       " 102       2\n",
       " 99        1\n",
       "-1         1\n",
       "Name: age, Length: 104, dtype: int64"
      ]
     },
     "execution_count": 20,
     "metadata": {},
     "output_type": "execute_result"
    }
   ],
   "source": [
    "appt_df['age'].value_counts()"
   ]
  },
  {
   "cell_type": "code",
   "execution_count": 21,
   "metadata": {},
   "outputs": [
    {
     "data": {
      "text/plain": [
       "104"
      ]
     },
     "execution_count": 21,
     "metadata": {},
     "output_type": "execute_result"
    }
   ],
   "source": [
    "len(appt_df['age'].value_counts())"
   ]
  },
  {
   "cell_type": "code",
   "execution_count": 22,
   "metadata": {},
   "outputs": [
    {
     "data": {
      "text/plain": [
       "0     3539\n",
       "1     2273\n",
       "52    1746\n",
       "49    1652\n",
       "53    1651\n",
       "56    1635\n",
       "38    1629\n",
       "59    1624\n",
       "2     1618\n",
       "50    1613\n",
       "Name: age, dtype: int64"
      ]
     },
     "execution_count": 22,
     "metadata": {},
     "output_type": "execute_result"
    }
   ],
   "source": [
    "appt_df['age'].value_counts()[0:10:1]"
   ]
  },
  {
   "cell_type": "code",
   "execution_count": 23,
   "metadata": {},
   "outputs": [
    {
     "data": {
      "text/plain": [
       "-1       1\n",
       " 99      1\n",
       " 102     2\n",
       " 100     4\n",
       " 115     5\n",
       " 98      6\n",
       " 97     11\n",
       " 96     17\n",
       " 95     24\n",
       " 94     33\n",
       "Name: age, dtype: int64"
      ]
     },
     "execution_count": 23,
     "metadata": {},
     "output_type": "execute_result"
    }
   ],
   "source": [
    "appt_df['age'].value_counts()[104:93:-1]"
   ]
  },
  {
   "cell_type": "code",
   "execution_count": 24,
   "metadata": {},
   "outputs": [
    {
     "data": {
      "text/plain": [
       "37.0"
      ]
     },
     "execution_count": 24,
     "metadata": {},
     "output_type": "execute_result"
    }
   ],
   "source": [
    "round(appt_df['age'].mean(), 0)"
   ]
  },
  {
   "attachments": {},
   "cell_type": "markdown",
   "metadata": {},
   "source": [
    "My general insights from my assessment of the age values is that there are 104 different age values. Furthermore, the average age of patients is roughly 37. Also, it would seem that the highest age counts are during the late 40s to early 50s and after the age of 90 we have many of out lowest counts. I can think of no conclusions or actionable insights from this information, though it might be useful going forward."
   ]
  },
  {
   "attachments": {},
   "cell_type": "markdown",
   "metadata": {},
   "source": [
    "## Questions 1:"
   ]
  },
  {
   "cell_type": "markdown",
   "metadata": {},
   "source": [
    "### Is there any correlation between age and no-show appointments? "
   ]
  },
  {
   "cell_type": "code",
   "execution_count": 25,
   "metadata": {},
   "outputs": [],
   "source": [
    "# Count the number of occurrences of each age where arrival_status == 'No'\n",
    "age_arrival_status_counts_no = appt_df[appt_df['arrival_status'] == 'Arrived'].groupby('age')['arrival_status'].count()"
   ]
  },
  {
   "cell_type": "code",
   "execution_count": 26,
   "metadata": {},
   "outputs": [],
   "source": [
    "# Count the number of occurrences of each age where arrival_status == 'Yes'\n",
    "age_arrival_status_counts_yes = appt_df[appt_df['arrival_status'] == 'Did Not Arrive'].groupby('age')['arrival_status'].count()"
   ]
  },
  {
   "cell_type": "code",
   "execution_count": 27,
   "metadata": {},
   "outputs": [],
   "source": [
    "age_arrival_status_overall = appt_df.groupby('age')['arrival_status'].count()"
   ]
  },
  {
   "cell_type": "code",
   "execution_count": 28,
   "metadata": {},
   "outputs": [],
   "source": [
    "age_grouped = appt_df.groupby(['age', 'arrival_status']).size().reset_index(name = 'counts')"
   ]
  },
  {
   "cell_type": "code",
   "execution_count": 29,
   "metadata": {},
   "outputs": [],
   "source": [
    "# Create a pivot table to show the percentage of patients who did not arrive for their appointments\n",
    "\n",
    "age_pivot = age_grouped.pivot(index = 'age', columns = 'arrival_status', values = 'counts')\n",
    "\n",
    "age_pivot['Arrived'].fillna(0, inplace=True)\n",
    "\n",
    "age_pivot['Did Not Arrive'].fillna(0, inplace=True)\n",
    "\n",
    "age_pivot['Overall'] = age_pivot['Arrived'] + age_pivot['Did Not Arrive']\n",
    "\n",
    "age_pivot['Percent Arrived'] = round((age_pivot['Arrived'] / age_pivot['Overall']) * 100, 2)\n",
    "\n",
    "age_pivot['Percent Arrived'].fillna(100, inplace=True)"
   ]
  },
  {
   "cell_type": "code",
   "execution_count": 30,
   "metadata": {},
   "outputs": [
    {
     "data": {
      "image/png": "[encoded data removed]",
      "text/plain": [
       "<Figure size 432x288 with 1 Axes>"
      ]
     },
     "metadata": {
      "needs_background": "light"
     },
     "output_type": "display_data"
    },
    {
     "data": {
      "text/html": [
       "<div>\n",
       "<style scoped>\n",
       "    .dataframe tbody tr th:only-of-type {\n",
       "        vertical-align: middle;\n",
       "    }\n",
       "\n",
       "    .dataframe tbody tr th {\n",
       "        vertical-align: top;\n",
       "    }\n",
       "\n",
       "    .dataframe thead th {\n",
       "        text-align: right;\n",
       "    }\n",
       "</style>\n",
       "<table border=\"1\" class=\"dataframe\">\n",
       "  <thead>\n",
       "    <tr style=\"text-align: right;\">\n",
       "      <th>arrival_status</th>\n",
       "      <th>Arrived</th>\n",
       "      <th>Did Not Arrive</th>\n",
       "      <th>Overall</th>\n",
       "      <th>Percent Arrived</th>\n",
       "    </tr>\n",
       "    <tr>\n",
       "      <th>age</th>\n",
       "      <th></th>\n",
       "      <th></th>\n",
       "      <th></th>\n",
       "      <th></th>\n",
       "    </tr>\n",
       "  </thead>\n",
       "  <tbody>\n",
       "    <tr>\n",
       "      <th>-1</th>\n",
       "      <td>1.0</td>\n",
       "      <td>0.0</td>\n",
       "      <td>1.0</td>\n",
       "      <td>100.00</td>\n",
       "    </tr>\n",
       "    <tr>\n",
       "      <th>0</th>\n",
       "      <td>2900.0</td>\n",
       "      <td>639.0</td>\n",
       "      <td>3539.0</td>\n",
       "      <td>81.94</td>\n",
       "    </tr>\n",
       "    <tr>\n",
       "      <th>1</th>\n",
       "      <td>1858.0</td>\n",
       "      <td>415.0</td>\n",
       "      <td>2273.0</td>\n",
       "      <td>81.74</td>\n",
       "    </tr>\n",
       "    <tr>\n",
       "      <th>2</th>\n",
       "      <td>1366.0</td>\n",
       "      <td>252.0</td>\n",
       "      <td>1618.0</td>\n",
       "      <td>84.43</td>\n",
       "    </tr>\n",
       "    <tr>\n",
       "      <th>3</th>\n",
       "      <td>1236.0</td>\n",
       "      <td>277.0</td>\n",
       "      <td>1513.0</td>\n",
       "      <td>81.69</td>\n",
       "    </tr>\n",
       "    <tr>\n",
       "      <th>4</th>\n",
       "      <td>1017.0</td>\n",
       "      <td>282.0</td>\n",
       "      <td>1299.0</td>\n",
       "      <td>78.29</td>\n",
       "    </tr>\n",
       "    <tr>\n",
       "      <th>5</th>\n",
       "      <td>1169.0</td>\n",
       "      <td>320.0</td>\n",
       "      <td>1489.0</td>\n",
       "      <td>78.51</td>\n",
       "    </tr>\n",
       "    <tr>\n",
       "      <th>6</th>\n",
       "      <td>1205.0</td>\n",
       "      <td>316.0</td>\n",
       "      <td>1521.0</td>\n",
       "      <td>79.22</td>\n",
       "    </tr>\n",
       "    <tr>\n",
       "      <th>7</th>\n",
       "      <td>1126.0</td>\n",
       "      <td>301.0</td>\n",
       "      <td>1427.0</td>\n",
       "      <td>78.91</td>\n",
       "    </tr>\n",
       "    <tr>\n",
       "      <th>8</th>\n",
       "      <td>1106.0</td>\n",
       "      <td>318.0</td>\n",
       "      <td>1424.0</td>\n",
       "      <td>77.67</td>\n",
       "    </tr>\n",
       "  </tbody>\n",
       "</table>\n",
       "</div>"
      ],
      "text/plain": [
       "arrival_status  Arrived  Did Not Arrive  Overall  Percent Arrived\n",
       "age                                                              \n",
       "-1                  1.0             0.0      1.0           100.00\n",
       " 0               2900.0           639.0   3539.0            81.94\n",
       " 1               1858.0           415.0   2273.0            81.74\n",
       " 2               1366.0           252.0   1618.0            84.43\n",
       " 3               1236.0           277.0   1513.0            81.69\n",
       " 4               1017.0           282.0   1299.0            78.29\n",
       " 5               1169.0           320.0   1489.0            78.51\n",
       " 6               1205.0           316.0   1521.0            79.22\n",
       " 7               1126.0           301.0   1427.0            78.91\n",
       " 8               1106.0           318.0   1424.0            77.67"
      ]
     },
     "execution_count": 30,
     "metadata": {},
     "output_type": "execute_result"
    }
   ],
   "source": [
    "# Plot the counts of each age\n",
    "plt.plot(age_arrival_status_overall, label = 'Overall', color = 'black')\n",
    "plt.plot(age_arrival_status_counts_yes.index, age_arrival_status_counts_yes.values, label = 'Did Not Arrive', color = 'orangered')\n",
    "plt.plot(age_arrival_status_counts_no.index, age_arrival_status_counts_no.values, label='Arrived', color = 'blue')\n",
    "plt.xlabel('Age')\n",
    "plt.ylabel('Count')\n",
    "plt.legend()\n",
    "plt.show()\n",
    "\n",
    "age_pivot.head(10)"
   ]
  },
  {
   "attachments": {},
   "cell_type": "markdown",
   "metadata": {},
   "source": [
    "## Questions 2:"
   ]
  },
  {
   "cell_type": "markdown",
   "metadata": {},
   "source": [
    "### What impact does being enrolled in the Brasilian welfare program have on the likelihood of patients showing up, if any?"
   ]
  },
  {
   "cell_type": "code",
   "execution_count": 31,
   "metadata": {},
   "outputs": [],
   "source": [
    "# Group the data by bolsa_familia and arrival_status and count the occurrences of each combination\n",
    "bf_grouped = appt_df.groupby(['bolsa_familia', 'arrival_status']).size().reset_index(name = 'counts')"
   ]
  },
  {
   "cell_type": "code",
   "execution_count": 32,
   "metadata": {},
   "outputs": [],
   "source": [
    "# Pivot the grouped data to create a table where each row represents a bolsa_familia value and each column represents a arrival_status value\n",
    "bf_pivot = bf_grouped.pivot(index = 'bolsa_familia', columns = 'arrival_status', values = 'counts')"
   ]
  },
  {
   "cell_type": "code",
   "execution_count": 33,
   "metadata": {},
   "outputs": [],
   "source": [
    "# Adding a column for the total number of appointments for each bolsa_familia value\n",
    "\n",
    "bf_pivot['Percent Arrived'] = round((bf_pivot['Arrived'] / (bf_pivot['Did Not Arrive'] + bf_pivot['Arrived'])) * 100, 2)"
   ]
  },
  {
   "cell_type": "code",
   "execution_count": 34,
   "metadata": {},
   "outputs": [
    {
     "data": {
      "image/png": "[encoded data removed]",
      "text/plain": [
       "<Figure size 432x288 with 1 Axes>"
      ]
     },
     "metadata": {
      "needs_background": "light"
     },
     "output_type": "display_data"
    },
    {
     "data": {
      "text/html": [
       "<div>\n",
       "<style scoped>\n",
       "    .dataframe tbody tr th:only-of-type {\n",
       "        vertical-align: middle;\n",
       "    }\n",
       "\n",
       "    .dataframe tbody tr th {\n",
       "        vertical-align: top;\n",
       "    }\n",
       "\n",
       "    .dataframe thead th {\n",
       "        text-align: right;\n",
       "    }\n",
       "</style>\n",
       "<table border=\"1\" class=\"dataframe\">\n",
       "  <thead>\n",
       "    <tr style=\"text-align: right;\">\n",
       "      <th>arrival_status</th>\n",
       "      <th>Arrived</th>\n",
       "      <th>Did Not Arrive</th>\n",
       "      <th>Percent Arrived</th>\n",
       "    </tr>\n",
       "    <tr>\n",
       "      <th>bolsa_familia</th>\n",
       "      <th></th>\n",
       "      <th></th>\n",
       "      <th></th>\n",
       "    </tr>\n",
       "  </thead>\n",
       "  <tbody>\n",
       "    <tr>\n",
       "      <th>Enrolled</th>\n",
       "      <td>8283</td>\n",
       "      <td>2578</td>\n",
       "      <td>76.26</td>\n",
       "    </tr>\n",
       "    <tr>\n",
       "      <th>Not Enrolled</th>\n",
       "      <td>79925</td>\n",
       "      <td>19741</td>\n",
       "      <td>80.19</td>\n",
       "    </tr>\n",
       "  </tbody>\n",
       "</table>\n",
       "</div>"
      ],
      "text/plain": [
       "arrival_status  Arrived  Did Not Arrive  Percent Arrived\n",
       "bolsa_familia                                           \n",
       "Enrolled           8283            2578            76.26\n",
       "Not Enrolled      79925           19741            80.19"
      ]
     },
     "execution_count": 34,
     "metadata": {},
     "output_type": "execute_result"
    }
   ],
   "source": [
    "# Plot the pivot table as a stacked bar plot\n",
    "bf_pivot.plot(kind = 'bar', stacked = True)\n",
    "plt.xlabel('Bolsa Família')\n",
    "plt.ylabel('Count')\n",
    "plt.legend(['Arrived', 'Did Not Arrive'], loc = 'upper left')\n",
    "plt.show()\n",
    "\n",
    "bf_pivot"
   ]
  },
  {
   "attachments": {},
   "cell_type": "markdown",
   "metadata": {},
   "source": [
    "## Conclusions"
   ]
  },
  {
   "attachments": {},
   "cell_type": "markdown",
   "metadata": {},
   "source": [
    "##### Question 1: Is there any correlation between age and no-show appointments? "
   ]
  },
  {
   "attachments": {},
   "cell_type": "markdown",
   "metadata": {},
   "source": [
    "There is only a weak correlation between age and the likelihood that any one individual will show up for their appointment. The only real noteworthy variation in this is around 40 to 60 years old. However, this is still a negligible correlation. Although, the strongest correlation is with age and number of appointments overall. The number of overall scheduled appointments rises in early adulthood and begins to taper off towards ages of 60 and older."
   ]
  },
  {
   "attachments": {},
   "cell_type": "markdown",
   "metadata": {},
   "source": [
    "##### Question 2: What correlation exists between being enrolled in the Brasilian welfare program and no-show appointments?"
   ]
  },
  {
   "attachments": {},
   "cell_type": "markdown",
   "metadata": {},
   "source": [
    "I have discovered through my analysis that the percentage of both enrolled and unenrolled individuals relative to their likelihood of showing up for their appointments is very similar. This leads me to believe that the Brasilian welfare program does not have a significant impact on the likelihood of patients showing up for their appointments. However, I have also observed here that the overall number of appointments scheduled for individuals enrolled in the Brasilian welfare program is significantly lower than the number of appointments scheduled for individuals not enrolled in the Brasilian welfare program. This could be due to the fact that the Brasilian welfare program is either not as widely known or utilized as it could be."
   ]
  },
  {
   "attachments": {},
   "cell_type": "markdown",
   "metadata": {},
   "source": [
    "##### Limitations"
   ]
  },
  {
   "attachments": {},
   "cell_type": "markdown",
   "metadata": {},
   "source": [
    "The biggest limitation of this dataset is that a large number of outside factors are not documented. Thus leaving many takeaways based laregly on conjecture as opposed to statistical analysis. I feel that for the analysis to more accurate and informative other datasets would need to be utilised, such as census data, to provide a more complete picture of the population of patients, and perhaps a more complete understanding of the Brasilian welfare program to understand its reach and impact on the population. Without more information, it is difficult to draw any definitive conclusions from this dataset that could actually be impactful."
   ]
  },
  {
   "attachments": {},
   "cell_type": "markdown",
   "metadata": {},
   "source": [
    "## OPTIONAL: Question for the reviewer\n",
    "\n",
    "**Why did I need the update pandas line? I actually needed to comment it out when I was working on it on my local machine, and just left it out of the code entirely.**\n",
    "**I would also like to request feedback on my choices for visualizations. I am not sure if I chose the best ones.**"
   ]
  },
  {
   "cell_type": "code",
   "execution_count": 35,
   "metadata": {},
   "outputs": [
    {
     "data": {
      "text/plain": [
       "1"
      ]
     },
     "execution_count": 35,
     "metadata": {},
     "output_type": "execute_result"
    }
   ],
   "source": [
    "from subprocess import call\n",
    "call(['python', '-m', 'nbconvert', 'Investigate_a_Dataset.ipynb'])"
   ]
  }
 ],
 "metadata": {
  "kernelspec": {
   "display_name": "Python 3",
   "language": "python",
   "name": "python3"
  },
  "language_info": {
   "codemirror_mode": {
    "name": "ipython",
    "version": 3
   },
   "file_extension": ".py",
   "mimetype": "text/x-python",
   "name": "python",
   "nbconvert_exporter": "python",
   "pygments_lexer": "ipython3",
   "version": "3.10.5"
  },
  "vscode": {
   "interpreter": {
    "hash": "369f2c481f4da34e4445cda3fffd2e751bd1c4d706f27375911949ba6bb62e1c"
   }
  }
 },
 "nbformat": 4,
 "nbformat_minor": 2
}
